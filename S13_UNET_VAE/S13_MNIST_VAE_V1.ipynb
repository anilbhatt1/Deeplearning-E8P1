{
  "nbformat": 4,
  "nbformat_minor": 0,
  "metadata": {
    "colab": {
      "provenance": []
    },
    "kernelspec": {
      "name": "python3",
      "display_name": "Python 3"
    },
    "language_info": {
      "name": "python"
    },
    "accelerator": "GPU",
    "gpuClass": "standard"
  },
  "cells": [
    {
      "cell_type": "code",
      "execution_count": null,
      "metadata": {
        "colab": {
          "base_uri": "https://localhost:8080/"
        },
        "id": "wLVYKJsVNR8t",
        "outputId": "638f20e7-8dd5-466e-cd00-f06f0f1aec2b"
      },
      "outputs": [
        {
          "output_type": "stream",
          "name": "stdout",
          "text": [
            "Sun Apr 23 13:02:44 2023       \n",
            "+-----------------------------------------------------------------------------+\n",
            "| NVIDIA-SMI 525.85.12    Driver Version: 525.85.12    CUDA Version: 12.0     |\n",
            "|-------------------------------+----------------------+----------------------+\n",
            "| GPU  Name        Persistence-M| Bus-Id        Disp.A | Volatile Uncorr. ECC |\n",
            "| Fan  Temp  Perf  Pwr:Usage/Cap|         Memory-Usage | GPU-Util  Compute M. |\n",
            "|                               |                      |               MIG M. |\n",
            "|===============================+======================+======================|\n",
            "|   0  Tesla T4            Off  | 00000000:00:04.0 Off |                    0 |\n",
            "| N/A   63C    P8    11W /  70W |      0MiB / 15360MiB |      0%      Default |\n",
            "|                               |                      |                  N/A |\n",
            "+-------------------------------+----------------------+----------------------+\n",
            "                                                                               \n",
            "+-----------------------------------------------------------------------------+\n",
            "| Processes:                                                                  |\n",
            "|  GPU   GI   CI        PID   Type   Process name                  GPU Memory |\n",
            "|        ID   ID                                                   Usage      |\n",
            "|=============================================================================|\n",
            "|  No running processes found                                                 |\n",
            "+-----------------------------------------------------------------------------+\n"
          ]
        }
      ],
      "source": [
        "!nvidia-smi"
      ]
    },
    {
      "cell_type": "code",
      "source": [
        "# prerequisites\n",
        "import torch\n",
        "import torch.nn as nn\n",
        "import torch.nn.functional as F\n",
        "import torch.optim as optim\n",
        "from torchvision import datasets, transforms\n",
        "from torch.autograd import Variable\n",
        "from torchvision.utils import save_image\n",
        "import matplotlib.pyplot as plt"
      ],
      "metadata": {
        "id": "VIeJ39gaNWgq"
      },
      "execution_count": null,
      "outputs": []
    },
    {
      "cell_type": "code",
      "source": [
        "bs = 100\n",
        "# MNIST Dataset\n",
        "train_dataset = datasets.MNIST(root='./mnist_data/', train=True, transform=transforms.ToTensor(), download=True)\n",
        "test_dataset = datasets.MNIST(root='./mnist_data/', train=False, transform=transforms.ToTensor(), download=False)\n",
        "\n",
        "# Data Loader (Input Pipeline)\n",
        "train_loader = torch.utils.data.DataLoader(dataset=train_dataset, batch_size=bs, shuffle=True)\n",
        "test_loader = torch.utils.data.DataLoader(dataset=test_dataset, batch_size=bs, shuffle=False)"
      ],
      "metadata": {
        "colab": {
          "base_uri": "https://localhost:8080/"
        },
        "id": "xrfoaC3uNwX7",
        "outputId": "e82eab69-a5e2-474b-c972-0b110af5e68c"
      },
      "execution_count": null,
      "outputs": [
        {
          "output_type": "stream",
          "name": "stdout",
          "text": [
            "Downloading http://yann.lecun.com/exdb/mnist/train-images-idx3-ubyte.gz\n",
            "Downloading http://yann.lecun.com/exdb/mnist/train-images-idx3-ubyte.gz to ./mnist_data/MNIST/raw/train-images-idx3-ubyte.gz\n"
          ]
        },
        {
          "output_type": "stream",
          "name": "stderr",
          "text": [
            "100%|██████████| 9912422/9912422 [00:00<00:00, 202814283.56it/s]"
          ]
        },
        {
          "output_type": "stream",
          "name": "stdout",
          "text": [
            "Extracting ./mnist_data/MNIST/raw/train-images-idx3-ubyte.gz to ./mnist_data/MNIST/raw\n"
          ]
        },
        {
          "output_type": "stream",
          "name": "stderr",
          "text": [
            "\n"
          ]
        },
        {
          "output_type": "stream",
          "name": "stdout",
          "text": [
            "\n",
            "Downloading http://yann.lecun.com/exdb/mnist/train-labels-idx1-ubyte.gz\n",
            "Downloading http://yann.lecun.com/exdb/mnist/train-labels-idx1-ubyte.gz to ./mnist_data/MNIST/raw/train-labels-idx1-ubyte.gz\n"
          ]
        },
        {
          "output_type": "stream",
          "name": "stderr",
          "text": [
            "100%|██████████| 28881/28881 [00:00<00:00, 28355733.57it/s]\n"
          ]
        },
        {
          "output_type": "stream",
          "name": "stdout",
          "text": [
            "Extracting ./mnist_data/MNIST/raw/train-labels-idx1-ubyte.gz to ./mnist_data/MNIST/raw\n",
            "\n",
            "Downloading http://yann.lecun.com/exdb/mnist/t10k-images-idx3-ubyte.gz\n",
            "Downloading http://yann.lecun.com/exdb/mnist/t10k-images-idx3-ubyte.gz to ./mnist_data/MNIST/raw/t10k-images-idx3-ubyte.gz\n"
          ]
        },
        {
          "output_type": "stream",
          "name": "stderr",
          "text": [
            "100%|██████████| 1648877/1648877 [00:00<00:00, 57141015.57it/s]"
          ]
        },
        {
          "output_type": "stream",
          "name": "stdout",
          "text": [
            "Extracting ./mnist_data/MNIST/raw/t10k-images-idx3-ubyte.gz to ./mnist_data/MNIST/raw\n",
            "\n",
            "Downloading http://yann.lecun.com/exdb/mnist/t10k-labels-idx1-ubyte.gz\n"
          ]
        },
        {
          "output_type": "stream",
          "name": "stderr",
          "text": [
            "\n"
          ]
        },
        {
          "output_type": "stream",
          "name": "stdout",
          "text": [
            "Downloading http://yann.lecun.com/exdb/mnist/t10k-labels-idx1-ubyte.gz to ./mnist_data/MNIST/raw/t10k-labels-idx1-ubyte.gz\n"
          ]
        },
        {
          "output_type": "stream",
          "name": "stderr",
          "text": [
            "100%|██████████| 4542/4542 [00:00<00:00, 3742736.50it/s]"
          ]
        },
        {
          "output_type": "stream",
          "name": "stdout",
          "text": [
            "Extracting ./mnist_data/MNIST/raw/t10k-labels-idx1-ubyte.gz to ./mnist_data/MNIST/raw\n",
            "\n"
          ]
        },
        {
          "output_type": "stream",
          "name": "stderr",
          "text": [
            "\n"
          ]
        }
      ]
    },
    {
      "cell_type": "code",
      "source": [
        "class VAE(nn.Module):\n",
        "    def __init__(self, x_dim, h_dim1, h_dim2, z_dim):\n",
        "        super(VAE, self).__init__()\n",
        "        \n",
        "        # encoder part\n",
        "        self.fc1 = nn.Linear(x_dim, h_dim1)\n",
        "        self.fc2 = nn.Linear(h_dim1, h_dim2)\n",
        "        self.fc31 = nn.Linear(h_dim2, z_dim)\n",
        "        self.fc32 = nn.Linear(h_dim2, z_dim)\n",
        "        # decoder part\n",
        "        self.fc4 = nn.Linear(z_dim, h_dim2)\n",
        "        self.fc5 = nn.Linear(h_dim2, h_dim1)\n",
        "        self.fc6 = nn.Linear(h_dim1, x_dim)\n",
        "        \n",
        "    def encoder(self, x):\n",
        "        h = F.relu(self.fc1(x))\n",
        "        h = F.relu(self.fc2(h))\n",
        "        return self.fc31(h), self.fc32(h) # mu, log_var\n",
        "    \n",
        "    def sampling(self, mu, log_var):\n",
        "        std = torch.exp(0.5*log_var)\n",
        "        eps = torch.randn_like(std)\n",
        "        return eps.mul(std).add_(mu) # return z sample\n",
        "        \n",
        "    def decoder(self, z):\n",
        "        h = F.relu(self.fc4(z))\n",
        "        h = F.relu(self.fc5(h))\n",
        "        return F.sigmoid(self.fc6(h)) \n",
        "    \n",
        "    def forward(self, x):\n",
        "        mu, log_var = self.encoder(x.view(-1, 784))\n",
        "        z = self.sampling(mu, log_var)\n",
        "        return self.decoder(z), mu, log_var\n",
        "\n",
        "# build model\n",
        "vae = VAE(x_dim=784, h_dim1= 512, h_dim2=256, z_dim=2)\n",
        "if torch.cuda.is_available():\n",
        "    vae.cuda()"
      ],
      "metadata": {
        "id": "f5zXm2fsN0JR"
      },
      "execution_count": null,
      "outputs": []
    },
    {
      "cell_type": "code",
      "source": [
        "vae"
      ],
      "metadata": {
        "colab": {
          "base_uri": "https://localhost:8080/"
        },
        "id": "69DrBwGeN2Rx",
        "outputId": "49054b9a-b048-45d7-d2b8-1d56c7329151"
      },
      "execution_count": null,
      "outputs": [
        {
          "output_type": "execute_result",
          "data": {
            "text/plain": [
              "VAE(\n",
              "  (fc1): Linear(in_features=784, out_features=512, bias=True)\n",
              "  (fc2): Linear(in_features=512, out_features=256, bias=True)\n",
              "  (fc31): Linear(in_features=256, out_features=2, bias=True)\n",
              "  (fc32): Linear(in_features=256, out_features=2, bias=True)\n",
              "  (fc4): Linear(in_features=2, out_features=256, bias=True)\n",
              "  (fc5): Linear(in_features=256, out_features=512, bias=True)\n",
              "  (fc6): Linear(in_features=512, out_features=784, bias=True)\n",
              ")"
            ]
          },
          "metadata": {},
          "execution_count": 5
        }
      ]
    },
    {
      "cell_type": "code",
      "source": [
        "optimizer = optim.Adam(vae.parameters())\n",
        "# return reconstruction error + KL divergence losses\n",
        "def loss_function(recon_x, x, mu, log_var):\n",
        "    BCE = F.binary_cross_entropy(recon_x, x.view(-1, 784), reduction='sum')\n",
        "    KLD = -0.5 * torch.sum(1 + log_var - mu.pow(2) - log_var.exp())\n",
        "    return BCE + KLD"
      ],
      "metadata": {
        "id": "A04ORfYJN4Cu"
      },
      "execution_count": null,
      "outputs": []
    },
    {
      "cell_type": "code",
      "source": [
        "def train(epoch):\n",
        "    vae.train()\n",
        "    train_loss = 0\n",
        "    for batch_idx, (data, _) in enumerate(train_loader):\n",
        "        data = data.cuda()\n",
        "        optimizer.zero_grad()\n",
        "        \n",
        "        recon_batch, mu, log_var = vae(data)\n",
        "        loss = loss_function(recon_batch, data, mu, log_var)\n",
        "        \n",
        "        loss.backward()\n",
        "        train_loss += loss.item()\n",
        "        optimizer.step()\n",
        "        \n",
        "        if batch_idx % 100 == 0:\n",
        "            print('Train Epoch: {} [{}/{} ({:.0f}%)]\\tLoss: {:.6f}'.format(\n",
        "                epoch, batch_idx * len(data), len(train_loader.dataset),\n",
        "                100. * batch_idx / len(train_loader), loss.item() / len(data)))\n",
        "    print('====> Epoch: {} Average loss: {:.4f}'.format(epoch, train_loss / len(train_loader.dataset)))"
      ],
      "metadata": {
        "id": "WvO58fQRN7O-"
      },
      "execution_count": null,
      "outputs": []
    },
    {
      "cell_type": "code",
      "source": [
        "def test():\n",
        "    vae.eval()\n",
        "    test_loss= 0\n",
        "    with torch.no_grad():\n",
        "        for data, _ in test_loader:\n",
        "            data = data.cuda()\n",
        "            recon, mu, log_var = vae(data)\n",
        "            \n",
        "            # sum up batch loss\n",
        "            test_loss += loss_function(recon, data, mu, log_var).item()\n",
        "        \n",
        "    test_loss /= len(test_loader.dataset)\n",
        "    print('====> Test set loss: {:.4f}'.format(test_loss))"
      ],
      "metadata": {
        "id": "nC9lbXD3N8_z"
      },
      "execution_count": null,
      "outputs": []
    },
    {
      "cell_type": "code",
      "source": [
        "for epoch in range(1, 51):\n",
        "    train(epoch)\n",
        "    test()"
      ],
      "metadata": {
        "colab": {
          "base_uri": "https://localhost:8080/"
        },
        "id": "hH3DYiFjN-uJ",
        "outputId": "0126ad73-0d6d-4a90-eaca-dc62b0c647a7"
      },
      "execution_count": null,
      "outputs": [
        {
          "output_type": "stream",
          "name": "stdout",
          "text": [
            "Train Epoch: 1 [0/60000 (0%)]\tLoss: 546.668320\n",
            "Train Epoch: 1 [10000/60000 (17%)]\tLoss: 189.847949\n",
            "Train Epoch: 1 [20000/60000 (33%)]\tLoss: 169.824961\n",
            "Train Epoch: 1 [30000/60000 (50%)]\tLoss: 168.129375\n",
            "Train Epoch: 1 [40000/60000 (67%)]\tLoss: 173.746543\n",
            "Train Epoch: 1 [50000/60000 (83%)]\tLoss: 174.227461\n",
            "====> Epoch: 1 Average loss: 179.6370\n",
            "====> Test set loss: 162.9297\n",
            "Train Epoch: 2 [0/60000 (0%)]\tLoss: 162.138154\n",
            "Train Epoch: 2 [10000/60000 (17%)]\tLoss: 155.593437\n",
            "Train Epoch: 2 [20000/60000 (33%)]\tLoss: 160.795264\n",
            "Train Epoch: 2 [30000/60000 (50%)]\tLoss: 166.666895\n",
            "Train Epoch: 2 [40000/60000 (67%)]\tLoss: 153.529170\n",
            "Train Epoch: 2 [50000/60000 (83%)]\tLoss: 159.060674\n",
            "====> Epoch: 2 Average loss: 158.7560\n",
            "====> Test set loss: 154.5180\n",
            "Train Epoch: 3 [0/60000 (0%)]\tLoss: 152.996514\n",
            "Train Epoch: 3 [10000/60000 (17%)]\tLoss: 161.685674\n",
            "Train Epoch: 3 [20000/60000 (33%)]\tLoss: 153.576572\n",
            "Train Epoch: 3 [30000/60000 (50%)]\tLoss: 153.412705\n",
            "Train Epoch: 3 [40000/60000 (67%)]\tLoss: 154.265352\n",
            "Train Epoch: 3 [50000/60000 (83%)]\tLoss: 150.350293\n",
            "====> Epoch: 3 Average loss: 153.2283\n",
            "====> Test set loss: 150.7419\n",
            "Train Epoch: 4 [0/60000 (0%)]\tLoss: 150.927686\n",
            "Train Epoch: 4 [10000/60000 (17%)]\tLoss: 152.499209\n",
            "Train Epoch: 4 [20000/60000 (33%)]\tLoss: 157.761660\n",
            "Train Epoch: 4 [30000/60000 (50%)]\tLoss: 147.875742\n",
            "Train Epoch: 4 [40000/60000 (67%)]\tLoss: 146.086250\n",
            "Train Epoch: 4 [50000/60000 (83%)]\tLoss: 155.496563\n",
            "====> Epoch: 4 Average loss: 150.2540\n",
            "====> Test set loss: 148.8952\n",
            "Train Epoch: 5 [0/60000 (0%)]\tLoss: 152.007910\n",
            "Train Epoch: 5 [10000/60000 (17%)]\tLoss: 144.081016\n",
            "Train Epoch: 5 [20000/60000 (33%)]\tLoss: 145.108105\n",
            "Train Epoch: 5 [30000/60000 (50%)]\tLoss: 153.614570\n",
            "Train Epoch: 5 [40000/60000 (67%)]\tLoss: 151.064971\n",
            "Train Epoch: 5 [50000/60000 (83%)]\tLoss: 152.161357\n",
            "====> Epoch: 5 Average loss: 148.1151\n",
            "====> Test set loss: 147.2036\n",
            "Train Epoch: 6 [0/60000 (0%)]\tLoss: 149.907207\n",
            "Train Epoch: 6 [10000/60000 (17%)]\tLoss: 149.421055\n",
            "Train Epoch: 6 [20000/60000 (33%)]\tLoss: 141.658477\n",
            "Train Epoch: 6 [30000/60000 (50%)]\tLoss: 150.809395\n",
            "Train Epoch: 6 [40000/60000 (67%)]\tLoss: 152.267041\n",
            "Train Epoch: 6 [50000/60000 (83%)]\tLoss: 138.154287\n",
            "====> Epoch: 6 Average loss: 146.5698\n",
            "====> Test set loss: 146.1454\n",
            "Train Epoch: 7 [0/60000 (0%)]\tLoss: 150.502715\n",
            "Train Epoch: 7 [10000/60000 (17%)]\tLoss: 151.769990\n",
            "Train Epoch: 7 [20000/60000 (33%)]\tLoss: 138.752959\n",
            "Train Epoch: 7 [30000/60000 (50%)]\tLoss: 153.856123\n",
            "Train Epoch: 7 [40000/60000 (67%)]\tLoss: 152.400967\n",
            "Train Epoch: 7 [50000/60000 (83%)]\tLoss: 139.726816\n",
            "====> Epoch: 7 Average loss: 145.5093\n",
            "====> Test set loss: 144.8681\n",
            "Train Epoch: 8 [0/60000 (0%)]\tLoss: 146.893037\n",
            "Train Epoch: 8 [10000/60000 (17%)]\tLoss: 151.860410\n",
            "Train Epoch: 8 [20000/60000 (33%)]\tLoss: 145.328398\n",
            "Train Epoch: 8 [30000/60000 (50%)]\tLoss: 149.399443\n",
            "Train Epoch: 8 [40000/60000 (67%)]\tLoss: 150.269971\n",
            "Train Epoch: 8 [50000/60000 (83%)]\tLoss: 146.902930\n",
            "====> Epoch: 8 Average loss: 144.3747\n",
            "====> Test set loss: 143.8295\n",
            "Train Epoch: 9 [0/60000 (0%)]\tLoss: 148.284629\n",
            "Train Epoch: 9 [10000/60000 (17%)]\tLoss: 144.669414\n",
            "Train Epoch: 9 [20000/60000 (33%)]\tLoss: 145.100420\n",
            "Train Epoch: 9 [30000/60000 (50%)]\tLoss: 145.988555\n",
            "Train Epoch: 9 [40000/60000 (67%)]\tLoss: 143.039766\n",
            "Train Epoch: 9 [50000/60000 (83%)]\tLoss: 148.156514\n",
            "====> Epoch: 9 Average loss: 143.4217\n",
            "====> Test set loss: 143.5942\n",
            "Train Epoch: 10 [0/60000 (0%)]\tLoss: 139.897754\n",
            "Train Epoch: 10 [10000/60000 (17%)]\tLoss: 148.513535\n",
            "Train Epoch: 10 [20000/60000 (33%)]\tLoss: 155.524238\n",
            "Train Epoch: 10 [30000/60000 (50%)]\tLoss: 150.343711\n",
            "Train Epoch: 10 [40000/60000 (67%)]\tLoss: 136.658184\n",
            "Train Epoch: 10 [50000/60000 (83%)]\tLoss: 134.863213\n",
            "====> Epoch: 10 Average loss: 142.7468\n",
            "====> Test set loss: 142.7755\n",
            "Train Epoch: 11 [0/60000 (0%)]\tLoss: 145.408467\n",
            "Train Epoch: 11 [10000/60000 (17%)]\tLoss: 140.818975\n",
            "Train Epoch: 11 [20000/60000 (33%)]\tLoss: 141.264512\n",
            "Train Epoch: 11 [30000/60000 (50%)]\tLoss: 138.880537\n",
            "Train Epoch: 11 [40000/60000 (67%)]\tLoss: 142.400420\n",
            "Train Epoch: 11 [50000/60000 (83%)]\tLoss: 139.184082\n",
            "====> Epoch: 11 Average loss: 141.9221\n",
            "====> Test set loss: 141.9764\n",
            "Train Epoch: 12 [0/60000 (0%)]\tLoss: 136.797539\n",
            "Train Epoch: 12 [10000/60000 (17%)]\tLoss: 140.259102\n",
            "Train Epoch: 12 [20000/60000 (33%)]\tLoss: 136.336016\n",
            "Train Epoch: 12 [30000/60000 (50%)]\tLoss: 136.283105\n",
            "Train Epoch: 12 [40000/60000 (67%)]\tLoss: 146.183965\n",
            "Train Epoch: 12 [50000/60000 (83%)]\tLoss: 138.307764\n",
            "====> Epoch: 12 Average loss: 141.4198\n",
            "====> Test set loss: 141.4505\n",
            "Train Epoch: 13 [0/60000 (0%)]\tLoss: 132.770625\n",
            "Train Epoch: 13 [10000/60000 (17%)]\tLoss: 142.309326\n",
            "Train Epoch: 13 [20000/60000 (33%)]\tLoss: 147.466621\n",
            "Train Epoch: 13 [30000/60000 (50%)]\tLoss: 144.794219\n",
            "Train Epoch: 13 [40000/60000 (67%)]\tLoss: 141.239326\n",
            "Train Epoch: 13 [50000/60000 (83%)]\tLoss: 138.165684\n",
            "====> Epoch: 13 Average loss: 140.9398\n",
            "====> Test set loss: 141.8014\n",
            "Train Epoch: 14 [0/60000 (0%)]\tLoss: 136.752822\n",
            "Train Epoch: 14 [10000/60000 (17%)]\tLoss: 135.661191\n",
            "Train Epoch: 14 [20000/60000 (33%)]\tLoss: 135.604707\n",
            "Train Epoch: 14 [30000/60000 (50%)]\tLoss: 133.022637\n",
            "Train Epoch: 14 [40000/60000 (67%)]\tLoss: 141.578086\n",
            "Train Epoch: 14 [50000/60000 (83%)]\tLoss: 142.799600\n",
            "====> Epoch: 14 Average loss: 140.4784\n",
            "====> Test set loss: 140.9875\n",
            "Train Epoch: 15 [0/60000 (0%)]\tLoss: 136.124229\n",
            "Train Epoch: 15 [10000/60000 (17%)]\tLoss: 142.620137\n",
            "Train Epoch: 15 [20000/60000 (33%)]\tLoss: 140.126758\n",
            "Train Epoch: 15 [30000/60000 (50%)]\tLoss: 139.449990\n",
            "Train Epoch: 15 [40000/60000 (67%)]\tLoss: 140.088262\n",
            "Train Epoch: 15 [50000/60000 (83%)]\tLoss: 144.254980\n",
            "====> Epoch: 15 Average loss: 139.8498\n",
            "====> Test set loss: 140.6325\n",
            "Train Epoch: 16 [0/60000 (0%)]\tLoss: 144.805264\n",
            "Train Epoch: 16 [10000/60000 (17%)]\tLoss: 144.119316\n",
            "Train Epoch: 16 [20000/60000 (33%)]\tLoss: 145.038105\n",
            "Train Epoch: 16 [30000/60000 (50%)]\tLoss: 135.282861\n",
            "Train Epoch: 16 [40000/60000 (67%)]\tLoss: 141.309189\n",
            "Train Epoch: 16 [50000/60000 (83%)]\tLoss: 146.345967\n",
            "====> Epoch: 16 Average loss: 139.5490\n",
            "====> Test set loss: 140.7081\n",
            "Train Epoch: 17 [0/60000 (0%)]\tLoss: 142.509854\n",
            "Train Epoch: 17 [10000/60000 (17%)]\tLoss: 137.720078\n",
            "Train Epoch: 17 [20000/60000 (33%)]\tLoss: 140.566064\n",
            "Train Epoch: 17 [30000/60000 (50%)]\tLoss: 142.984492\n",
            "Train Epoch: 17 [40000/60000 (67%)]\tLoss: 142.961230\n",
            "Train Epoch: 17 [50000/60000 (83%)]\tLoss: 141.212852\n",
            "====> Epoch: 17 Average loss: 139.2126\n",
            "====> Test set loss: 140.4389\n",
            "Train Epoch: 18 [0/60000 (0%)]\tLoss: 146.214795\n",
            "Train Epoch: 18 [10000/60000 (17%)]\tLoss: 141.502461\n",
            "Train Epoch: 18 [20000/60000 (33%)]\tLoss: 139.586631\n",
            "Train Epoch: 18 [30000/60000 (50%)]\tLoss: 136.492813\n",
            "Train Epoch: 18 [40000/60000 (67%)]\tLoss: 137.380186\n",
            "Train Epoch: 18 [50000/60000 (83%)]\tLoss: 138.316475\n",
            "====> Epoch: 18 Average loss: 138.9196\n",
            "====> Test set loss: 139.7110\n",
            "Train Epoch: 19 [0/60000 (0%)]\tLoss: 142.933203\n",
            "Train Epoch: 19 [10000/60000 (17%)]\tLoss: 130.036494\n",
            "Train Epoch: 19 [20000/60000 (33%)]\tLoss: 137.733994\n",
            "Train Epoch: 19 [30000/60000 (50%)]\tLoss: 135.741689\n",
            "Train Epoch: 19 [40000/60000 (67%)]\tLoss: 133.039180\n",
            "Train Epoch: 19 [50000/60000 (83%)]\tLoss: 146.966357\n",
            "====> Epoch: 19 Average loss: 138.6151\n",
            "====> Test set loss: 139.5016\n",
            "Train Epoch: 20 [0/60000 (0%)]\tLoss: 133.988691\n",
            "Train Epoch: 20 [10000/60000 (17%)]\tLoss: 140.722148\n",
            "Train Epoch: 20 [20000/60000 (33%)]\tLoss: 132.241680\n",
            "Train Epoch: 20 [30000/60000 (50%)]\tLoss: 137.794473\n",
            "Train Epoch: 20 [40000/60000 (67%)]\tLoss: 135.549561\n",
            "Train Epoch: 20 [50000/60000 (83%)]\tLoss: 130.292529\n",
            "====> Epoch: 20 Average loss: 138.1965\n",
            "====> Test set loss: 139.5944\n",
            "Train Epoch: 21 [0/60000 (0%)]\tLoss: 139.657803\n",
            "Train Epoch: 21 [10000/60000 (17%)]\tLoss: 142.923350\n",
            "Train Epoch: 21 [20000/60000 (33%)]\tLoss: 136.060215\n",
            "Train Epoch: 21 [30000/60000 (50%)]\tLoss: 138.412725\n",
            "Train Epoch: 21 [40000/60000 (67%)]\tLoss: 147.912676\n",
            "Train Epoch: 21 [50000/60000 (83%)]\tLoss: 145.812266\n",
            "====> Epoch: 21 Average loss: 137.7475\n",
            "====> Test set loss: 139.1916\n",
            "Train Epoch: 22 [0/60000 (0%)]\tLoss: 134.513545\n",
            "Train Epoch: 22 [10000/60000 (17%)]\tLoss: 137.274580\n",
            "Train Epoch: 22 [20000/60000 (33%)]\tLoss: 147.196592\n",
            "Train Epoch: 22 [30000/60000 (50%)]\tLoss: 140.501250\n",
            "Train Epoch: 22 [40000/60000 (67%)]\tLoss: 137.520869\n",
            "Train Epoch: 22 [50000/60000 (83%)]\tLoss: 134.237480\n",
            "====> Epoch: 22 Average loss: 137.9049\n",
            "====> Test set loss: 139.1197\n",
            "Train Epoch: 23 [0/60000 (0%)]\tLoss: 135.935762\n",
            "Train Epoch: 23 [10000/60000 (17%)]\tLoss: 146.785508\n",
            "Train Epoch: 23 [20000/60000 (33%)]\tLoss: 142.381650\n",
            "Train Epoch: 23 [30000/60000 (50%)]\tLoss: 139.651836\n",
            "Train Epoch: 23 [40000/60000 (67%)]\tLoss: 134.882871\n",
            "Train Epoch: 23 [50000/60000 (83%)]\tLoss: 137.409824\n",
            "====> Epoch: 23 Average loss: 137.6824\n",
            "====> Test set loss: 138.8373\n",
            "Train Epoch: 24 [0/60000 (0%)]\tLoss: 134.594072\n",
            "Train Epoch: 24 [10000/60000 (17%)]\tLoss: 136.244238\n",
            "Train Epoch: 24 [20000/60000 (33%)]\tLoss: 136.287969\n",
            "Train Epoch: 24 [30000/60000 (50%)]\tLoss: 138.603623\n",
            "Train Epoch: 24 [40000/60000 (67%)]\tLoss: 138.839971\n",
            "Train Epoch: 24 [50000/60000 (83%)]\tLoss: 139.654258\n",
            "====> Epoch: 24 Average loss: 137.4059\n",
            "====> Test set loss: 139.2839\n",
            "Train Epoch: 25 [0/60000 (0%)]\tLoss: 145.510566\n",
            "Train Epoch: 25 [10000/60000 (17%)]\tLoss: 140.826484\n",
            "Train Epoch: 25 [20000/60000 (33%)]\tLoss: 135.627891\n",
            "Train Epoch: 25 [30000/60000 (50%)]\tLoss: 139.037334\n",
            "Train Epoch: 25 [40000/60000 (67%)]\tLoss: 145.395781\n",
            "Train Epoch: 25 [50000/60000 (83%)]\tLoss: 137.592080\n",
            "====> Epoch: 25 Average loss: 137.2652\n",
            "====> Test set loss: 138.5574\n",
            "Train Epoch: 26 [0/60000 (0%)]\tLoss: 141.233887\n",
            "Train Epoch: 26 [10000/60000 (17%)]\tLoss: 140.708203\n",
            "Train Epoch: 26 [20000/60000 (33%)]\tLoss: 139.370703\n",
            "Train Epoch: 26 [30000/60000 (50%)]\tLoss: 140.511348\n",
            "Train Epoch: 26 [40000/60000 (67%)]\tLoss: 138.939492\n",
            "Train Epoch: 26 [50000/60000 (83%)]\tLoss: 132.236133\n",
            "====> Epoch: 26 Average loss: 136.9014\n",
            "====> Test set loss: 139.0297\n",
            "Train Epoch: 27 [0/60000 (0%)]\tLoss: 145.369844\n",
            "Train Epoch: 27 [10000/60000 (17%)]\tLoss: 137.644590\n",
            "Train Epoch: 27 [20000/60000 (33%)]\tLoss: 135.579717\n",
            "Train Epoch: 27 [30000/60000 (50%)]\tLoss: 136.051934\n",
            "Train Epoch: 27 [40000/60000 (67%)]\tLoss: 134.355137\n",
            "Train Epoch: 27 [50000/60000 (83%)]\tLoss: 137.348184\n",
            "====> Epoch: 27 Average loss: 136.6857\n",
            "====> Test set loss: 138.4511\n",
            "Train Epoch: 28 [0/60000 (0%)]\tLoss: 140.740645\n",
            "Train Epoch: 28 [10000/60000 (17%)]\tLoss: 131.928525\n",
            "Train Epoch: 28 [20000/60000 (33%)]\tLoss: 132.936523\n",
            "Train Epoch: 28 [30000/60000 (50%)]\tLoss: 135.624932\n",
            "Train Epoch: 28 [40000/60000 (67%)]\tLoss: 137.854814\n",
            "Train Epoch: 28 [50000/60000 (83%)]\tLoss: 132.640967\n",
            "====> Epoch: 28 Average loss: 136.5675\n",
            "====> Test set loss: 138.6390\n",
            "Train Epoch: 29 [0/60000 (0%)]\tLoss: 135.287900\n",
            "Train Epoch: 29 [10000/60000 (17%)]\tLoss: 125.531914\n",
            "Train Epoch: 29 [20000/60000 (33%)]\tLoss: 140.643652\n",
            "Train Epoch: 29 [30000/60000 (50%)]\tLoss: 126.616094\n",
            "Train Epoch: 29 [40000/60000 (67%)]\tLoss: 133.098418\n",
            "Train Epoch: 29 [50000/60000 (83%)]\tLoss: 138.088105\n",
            "====> Epoch: 29 Average loss: 136.4554\n",
            "====> Test set loss: 138.6163\n",
            "Train Epoch: 30 [0/60000 (0%)]\tLoss: 143.994404\n",
            "Train Epoch: 30 [10000/60000 (17%)]\tLoss: 131.005273\n",
            "Train Epoch: 30 [20000/60000 (33%)]\tLoss: 132.938877\n",
            "Train Epoch: 30 [30000/60000 (50%)]\tLoss: 135.836982\n",
            "Train Epoch: 30 [40000/60000 (67%)]\tLoss: 134.797012\n",
            "Train Epoch: 30 [50000/60000 (83%)]\tLoss: 133.860352\n",
            "====> Epoch: 30 Average loss: 136.2210\n",
            "====> Test set loss: 137.9383\n",
            "Train Epoch: 31 [0/60000 (0%)]\tLoss: 139.989590\n",
            "Train Epoch: 31 [10000/60000 (17%)]\tLoss: 126.912285\n",
            "Train Epoch: 31 [20000/60000 (33%)]\tLoss: 133.050537\n",
            "Train Epoch: 31 [30000/60000 (50%)]\tLoss: 134.057012\n",
            "Train Epoch: 31 [40000/60000 (67%)]\tLoss: 131.332324\n",
            "Train Epoch: 31 [50000/60000 (83%)]\tLoss: 143.100557\n",
            "====> Epoch: 31 Average loss: 135.9585\n",
            "====> Test set loss: 137.9641\n",
            "Train Epoch: 32 [0/60000 (0%)]\tLoss: 134.474678\n",
            "Train Epoch: 32 [10000/60000 (17%)]\tLoss: 139.793301\n",
            "Train Epoch: 32 [20000/60000 (33%)]\tLoss: 130.147578\n",
            "Train Epoch: 32 [30000/60000 (50%)]\tLoss: 140.329727\n",
            "Train Epoch: 32 [40000/60000 (67%)]\tLoss: 138.189033\n",
            "Train Epoch: 32 [50000/60000 (83%)]\tLoss: 128.054814\n",
            "====> Epoch: 32 Average loss: 135.7852\n",
            "====> Test set loss: 138.4584\n",
            "Train Epoch: 33 [0/60000 (0%)]\tLoss: 135.755303\n",
            "Train Epoch: 33 [10000/60000 (17%)]\tLoss: 131.149141\n",
            "Train Epoch: 33 [20000/60000 (33%)]\tLoss: 141.264082\n",
            "Train Epoch: 33 [30000/60000 (50%)]\tLoss: 137.928643\n",
            "Train Epoch: 33 [40000/60000 (67%)]\tLoss: 132.166904\n",
            "Train Epoch: 33 [50000/60000 (83%)]\tLoss: 144.308223\n",
            "====> Epoch: 33 Average loss: 135.7005\n",
            "====> Test set loss: 138.2353\n",
            "Train Epoch: 34 [0/60000 (0%)]\tLoss: 131.156104\n",
            "Train Epoch: 34 [10000/60000 (17%)]\tLoss: 131.796621\n",
            "Train Epoch: 34 [20000/60000 (33%)]\tLoss: 134.419883\n",
            "Train Epoch: 34 [30000/60000 (50%)]\tLoss: 138.697803\n",
            "Train Epoch: 34 [40000/60000 (67%)]\tLoss: 136.423340\n",
            "Train Epoch: 34 [50000/60000 (83%)]\tLoss: 129.357871\n",
            "====> Epoch: 34 Average loss: 135.4206\n",
            "====> Test set loss: 137.7796\n",
            "Train Epoch: 35 [0/60000 (0%)]\tLoss: 133.664434\n",
            "Train Epoch: 35 [10000/60000 (17%)]\tLoss: 127.882012\n",
            "Train Epoch: 35 [20000/60000 (33%)]\tLoss: 139.393623\n",
            "Train Epoch: 35 [30000/60000 (50%)]\tLoss: 127.283672\n",
            "Train Epoch: 35 [40000/60000 (67%)]\tLoss: 133.745898\n",
            "Train Epoch: 35 [50000/60000 (83%)]\tLoss: 135.837168\n",
            "====> Epoch: 35 Average loss: 135.4098\n",
            "====> Test set loss: 137.9269\n",
            "Train Epoch: 36 [0/60000 (0%)]\tLoss: 128.967041\n",
            "Train Epoch: 36 [10000/60000 (17%)]\tLoss: 133.058906\n",
            "Train Epoch: 36 [20000/60000 (33%)]\tLoss: 126.340000\n",
            "Train Epoch: 36 [30000/60000 (50%)]\tLoss: 128.138994\n",
            "Train Epoch: 36 [40000/60000 (67%)]\tLoss: 143.346338\n",
            "Train Epoch: 36 [50000/60000 (83%)]\tLoss: 135.637881\n",
            "====> Epoch: 36 Average loss: 135.2949\n",
            "====> Test set loss: 137.8428\n",
            "Train Epoch: 37 [0/60000 (0%)]\tLoss: 130.981270\n",
            "Train Epoch: 37 [10000/60000 (17%)]\tLoss: 141.881826\n",
            "Train Epoch: 37 [20000/60000 (33%)]\tLoss: 132.820068\n",
            "Train Epoch: 37 [30000/60000 (50%)]\tLoss: 142.142490\n",
            "Train Epoch: 37 [40000/60000 (67%)]\tLoss: 136.117910\n",
            "Train Epoch: 37 [50000/60000 (83%)]\tLoss: 134.158711\n",
            "====> Epoch: 37 Average loss: 135.4572\n",
            "====> Test set loss: 137.9092\n",
            "Train Epoch: 38 [0/60000 (0%)]\tLoss: 140.637383\n",
            "Train Epoch: 38 [10000/60000 (17%)]\tLoss: 133.529824\n",
            "Train Epoch: 38 [20000/60000 (33%)]\tLoss: 133.526797\n",
            "Train Epoch: 38 [30000/60000 (50%)]\tLoss: 132.168623\n",
            "Train Epoch: 38 [40000/60000 (67%)]\tLoss: 128.862910\n",
            "Train Epoch: 38 [50000/60000 (83%)]\tLoss: 132.527764\n",
            "====> Epoch: 38 Average loss: 135.2207\n",
            "====> Test set loss: 137.7814\n",
            "Train Epoch: 39 [0/60000 (0%)]\tLoss: 142.452158\n",
            "Train Epoch: 39 [10000/60000 (17%)]\tLoss: 128.715908\n",
            "Train Epoch: 39 [20000/60000 (33%)]\tLoss: 136.469570\n",
            "Train Epoch: 39 [30000/60000 (50%)]\tLoss: 131.792432\n",
            "Train Epoch: 39 [40000/60000 (67%)]\tLoss: 130.831367\n",
            "Train Epoch: 39 [50000/60000 (83%)]\tLoss: 136.127998\n",
            "====> Epoch: 39 Average loss: 134.9181\n",
            "====> Test set loss: 137.5808\n",
            "Train Epoch: 40 [0/60000 (0%)]\tLoss: 140.244756\n",
            "Train Epoch: 40 [10000/60000 (17%)]\tLoss: 135.873135\n",
            "Train Epoch: 40 [20000/60000 (33%)]\tLoss: 141.801621\n",
            "Train Epoch: 40 [30000/60000 (50%)]\tLoss: 138.953789\n",
            "Train Epoch: 40 [40000/60000 (67%)]\tLoss: 137.371318\n",
            "Train Epoch: 40 [50000/60000 (83%)]\tLoss: 129.528223\n",
            "====> Epoch: 40 Average loss: 135.0663\n",
            "====> Test set loss: 138.2187\n",
            "Train Epoch: 41 [0/60000 (0%)]\tLoss: 130.195391\n",
            "Train Epoch: 41 [10000/60000 (17%)]\tLoss: 132.678438\n",
            "Train Epoch: 41 [20000/60000 (33%)]\tLoss: 146.015664\n",
            "Train Epoch: 41 [30000/60000 (50%)]\tLoss: 138.186455\n",
            "Train Epoch: 41 [40000/60000 (67%)]\tLoss: 137.291201\n",
            "Train Epoch: 41 [50000/60000 (83%)]\tLoss: 133.438330\n",
            "====> Epoch: 41 Average loss: 135.1796\n",
            "====> Test set loss: 137.9012\n",
            "Train Epoch: 42 [0/60000 (0%)]\tLoss: 129.965508\n",
            "Train Epoch: 42 [10000/60000 (17%)]\tLoss: 132.195859\n",
            "Train Epoch: 42 [20000/60000 (33%)]\tLoss: 132.691318\n",
            "Train Epoch: 42 [30000/60000 (50%)]\tLoss: 134.607539\n",
            "Train Epoch: 42 [40000/60000 (67%)]\tLoss: 134.830674\n",
            "Train Epoch: 42 [50000/60000 (83%)]\tLoss: 134.723994\n",
            "====> Epoch: 42 Average loss: 134.8399\n",
            "====> Test set loss: 137.8403\n",
            "Train Epoch: 43 [0/60000 (0%)]\tLoss: 136.111475\n",
            "Train Epoch: 43 [10000/60000 (17%)]\tLoss: 143.042295\n",
            "Train Epoch: 43 [20000/60000 (33%)]\tLoss: 131.890303\n",
            "Train Epoch: 43 [30000/60000 (50%)]\tLoss: 138.211738\n",
            "Train Epoch: 43 [40000/60000 (67%)]\tLoss: 133.072949\n",
            "Train Epoch: 43 [50000/60000 (83%)]\tLoss: 128.052080\n",
            "====> Epoch: 43 Average loss: 134.7787\n",
            "====> Test set loss: 137.5853\n",
            "Train Epoch: 44 [0/60000 (0%)]\tLoss: 129.291875\n",
            "Train Epoch: 44 [10000/60000 (17%)]\tLoss: 128.416699\n",
            "Train Epoch: 44 [20000/60000 (33%)]\tLoss: 130.046602\n",
            "Train Epoch: 44 [30000/60000 (50%)]\tLoss: 137.620166\n",
            "Train Epoch: 44 [40000/60000 (67%)]\tLoss: 137.869795\n",
            "Train Epoch: 44 [50000/60000 (83%)]\tLoss: 139.280635\n",
            "====> Epoch: 44 Average loss: 134.5645\n",
            "====> Test set loss: 137.0369\n",
            "Train Epoch: 45 [0/60000 (0%)]\tLoss: 140.750840\n",
            "Train Epoch: 45 [10000/60000 (17%)]\tLoss: 129.775059\n",
            "Train Epoch: 45 [20000/60000 (33%)]\tLoss: 132.557754\n",
            "Train Epoch: 45 [30000/60000 (50%)]\tLoss: 131.417773\n",
            "Train Epoch: 45 [40000/60000 (67%)]\tLoss: 128.926133\n",
            "Train Epoch: 45 [50000/60000 (83%)]\tLoss: 141.577236\n",
            "====> Epoch: 45 Average loss: 134.2957\n",
            "====> Test set loss: 137.3164\n",
            "Train Epoch: 46 [0/60000 (0%)]\tLoss: 128.320654\n",
            "Train Epoch: 46 [10000/60000 (17%)]\tLoss: 129.214961\n",
            "Train Epoch: 46 [20000/60000 (33%)]\tLoss: 138.872822\n",
            "Train Epoch: 46 [30000/60000 (50%)]\tLoss: 143.872695\n",
            "Train Epoch: 46 [40000/60000 (67%)]\tLoss: 131.790195\n",
            "Train Epoch: 46 [50000/60000 (83%)]\tLoss: 138.913389\n",
            "====> Epoch: 46 Average loss: 134.3654\n",
            "====> Test set loss: 137.6166\n",
            "Train Epoch: 47 [0/60000 (0%)]\tLoss: 135.419756\n",
            "Train Epoch: 47 [10000/60000 (17%)]\tLoss: 128.260215\n",
            "Train Epoch: 47 [20000/60000 (33%)]\tLoss: 132.629043\n",
            "Train Epoch: 47 [30000/60000 (50%)]\tLoss: 136.189072\n",
            "Train Epoch: 47 [40000/60000 (67%)]\tLoss: 132.594014\n",
            "Train Epoch: 47 [50000/60000 (83%)]\tLoss: 145.114492\n",
            "====> Epoch: 47 Average loss: 134.1736\n",
            "====> Test set loss: 137.1456\n",
            "Train Epoch: 48 [0/60000 (0%)]\tLoss: 132.314014\n",
            "Train Epoch: 48 [10000/60000 (17%)]\tLoss: 139.661699\n",
            "Train Epoch: 48 [20000/60000 (33%)]\tLoss: 131.004131\n",
            "Train Epoch: 48 [30000/60000 (50%)]\tLoss: 135.165098\n",
            "Train Epoch: 48 [40000/60000 (67%)]\tLoss: 123.296416\n",
            "Train Epoch: 48 [50000/60000 (83%)]\tLoss: 137.059238\n",
            "====> Epoch: 48 Average loss: 134.1607\n",
            "====> Test set loss: 137.9098\n",
            "Train Epoch: 49 [0/60000 (0%)]\tLoss: 141.571982\n",
            "Train Epoch: 49 [10000/60000 (17%)]\tLoss: 133.111650\n",
            "Train Epoch: 49 [20000/60000 (33%)]\tLoss: 129.664561\n",
            "Train Epoch: 49 [30000/60000 (50%)]\tLoss: 131.732900\n",
            "Train Epoch: 49 [40000/60000 (67%)]\tLoss: 135.600352\n",
            "Train Epoch: 49 [50000/60000 (83%)]\tLoss: 139.729756\n",
            "====> Epoch: 49 Average loss: 134.3085\n",
            "====> Test set loss: 137.2711\n",
            "Train Epoch: 50 [0/60000 (0%)]\tLoss: 142.415518\n",
            "Train Epoch: 50 [10000/60000 (17%)]\tLoss: 136.368008\n",
            "Train Epoch: 50 [20000/60000 (33%)]\tLoss: 135.838760\n",
            "Train Epoch: 50 [30000/60000 (50%)]\tLoss: 132.864268\n",
            "Train Epoch: 50 [40000/60000 (67%)]\tLoss: 137.616475\n",
            "Train Epoch: 50 [50000/60000 (83%)]\tLoss: 134.793486\n",
            "====> Epoch: 50 Average loss: 134.1256\n",
            "====> Test set loss: 137.3927\n"
          ]
        }
      ]
    },
    {
      "cell_type": "code",
      "source": [
        "!mkdir './samples'"
      ],
      "metadata": {
        "id": "6-Liw1VHRGkO"
      },
      "execution_count": null,
      "outputs": []
    },
    {
      "cell_type": "code",
      "source": [
        "with torch.no_grad():\n",
        "    z = torch.randn(64, 2).cuda()\n",
        "    sample = vae.decoder(z).cuda()\n",
        "    \n",
        "    save_image(sample.view(64, 1, 28, 28), './samples/sample_' + '.png')"
      ],
      "metadata": {
        "id": "X7jKhRfZOB9Z"
      },
      "execution_count": null,
      "outputs": []
    },
    {
      "cell_type": "code",
      "source": [
        "img = plt.imread('/content/samples/sample_.png')\n",
        "plt.imshow(img)"
      ],
      "metadata": {
        "colab": {
          "base_uri": "https://localhost:8080/",
          "height": 452
        },
        "id": "nHQQU0giRKvW",
        "outputId": "56687f5c-901f-4fd1-8957-c17682413afb"
      },
      "execution_count": null,
      "outputs": [
        {
          "output_type": "execute_result",
          "data": {
            "text/plain": [
              "<matplotlib.image.AxesImage at 0x7f1cb01647c0>"
            ]
          },
          "metadata": {},
          "execution_count": 16
        },
        {
          "output_type": "display_data",
          "data": {
            "text/plain": [
              "<Figure size 640x480 with 1 Axes>"
            ],
            "image/png": "[encoded data removed]"
          },
          "metadata": {}
        }
      ]
    },
    {
      "cell_type": "code",
      "source": [],
      "metadata": {
        "id": "VAGhmzIFRR8E"
      },
      "execution_count": null,
      "outputs": []
    }
  ]
}