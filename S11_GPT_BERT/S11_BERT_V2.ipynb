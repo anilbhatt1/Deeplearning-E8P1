{
  "nbformat": 4,
  "nbformat_minor": 0,
  "metadata": {
    "colab": {
      "provenance": []
    },
    "kernelspec": {
      "name": "python3",
      "display_name": "Python 3"
    },
    "language_info": {
      "name": "python"
    },
    "accelerator": "GPU",
    "gpuClass": "standard"
  },
  "cells": [
    {
      "cell_type": "code",
      "execution_count": null,
      "metadata": {
        "id": "jjWcv_ZOhpqK",
        "colab": {
          "base_uri": "https://localhost:8080/"
        },
        "outputId": "4b451e51-8455-480d-eeec-b20090ed4c75"
      },
      "outputs": [
        {
          "output_type": "stream",
          "name": "stdout",
          "text": [
            "Fri Mar 24 12:15:00 2023       \n",
            "+-----------------------------------------------------------------------------+\n",
            "| NVIDIA-SMI 525.85.12    Driver Version: 525.85.12    CUDA Version: 12.0     |\n",
            "|-------------------------------+----------------------+----------------------+\n",
            "| GPU  Name        Persistence-M| Bus-Id        Disp.A | Volatile Uncorr. ECC |\n",
            "| Fan  Temp  Perf  Pwr:Usage/Cap|         Memory-Usage | GPU-Util  Compute M. |\n",
            "|                               |                      |               MIG M. |\n",
            "|===============================+======================+======================|\n",
            "|   0  Tesla T4            Off  | 00000000:00:04.0 Off |                    0 |\n",
            "| N/A   52C    P8     9W /  70W |      0MiB / 15360MiB |      0%      Default |\n",
            "|                               |                      |                  N/A |\n",
            "+-------------------------------+----------------------+----------------------+\n",
            "                                                                               \n",
            "+-----------------------------------------------------------------------------+\n",
            "| Processes:                                                                  |\n",
            "|  GPU   GI   CI        PID   Type   Process name                  GPU Memory |\n",
            "|        ID   ID                                                   Usage      |\n",
            "|=============================================================================|\n",
            "|  No running processes found                                                 |\n",
            "+-----------------------------------------------------------------------------+\n"
          ]
        }
      ],
      "source": [
        "!nvidia-smi"
      ]
    },
    {
      "cell_type": "code",
      "source": [
        "from google.colab import drive\n",
        "drive.mount('/content/gdrive')"
      ],
      "metadata": {
        "colab": {
          "base_uri": "https://localhost:8080/"
        },
        "id": "4znsvw6i30zW",
        "outputId": "55e24686-725e-4e45-e5e8-27ec0d23bdaa"
      },
      "execution_count": null,
      "outputs": [
        {
          "output_type": "stream",
          "name": "stdout",
          "text": [
            "Mounted at /content/gdrive\n"
          ]
        }
      ]
    },
    {
      "cell_type": "code",
      "source": [
        "!cp -r \"/content/gdrive/My Drive/EVA8_S11_Course_Docs/BERT\" \".\""
      ],
      "metadata": {
        "id": "__NCPl1T330S"
      },
      "execution_count": null,
      "outputs": []
    },
    {
      "cell_type": "code",
      "source": [
        "from torch.utils.data import Dataset\n",
        "import torch.nn.functional as F\n",
        "from collections import Counter\n",
        "from os.path import exists\n",
        "import torch.optim as optim\n",
        "import torch.nn as nn\n",
        "import numpy as np\n",
        "import random\n",
        "import torch\n",
        "import math\n",
        "import re"
      ],
      "metadata": {
        "id": "wsz00AFnr2Kl"
      },
      "execution_count": null,
      "outputs": []
    },
    {
      "cell_type": "code",
      "source": [
        "# =============================================================================\n",
        "# Transformer\n",
        "# =============================================================================\n",
        "def attention(q, k, v, mask = None, dropout = None):\n",
        "    scores = q.matmul(k.transpose(-2, -1))\n",
        "    scores /= math.sqrt(q.shape[-1])\n",
        "\n",
        "    #mask\n",
        "    scores = scores if mask is None else scores.masked_fill(mask == 0, -1e3)\n",
        "\n",
        "    scores = F.softmax(scores, dim = -1)\n",
        "    scores = dropout(scores) if dropout is not None else scores\n",
        "    output = scores.matmul(v)\n",
        "    return output\n",
        "\n",
        "class MultiHeadAttention(nn.Module):\n",
        "    def __init__(self, n_heads, out_dim, dropout=0.1):\n",
        "        super().__init__()\n",
        "\n",
        "        self.linear = nn.Linear(out_dim, out_dim*3)\n",
        "\n",
        "        self.n_heads = n_heads\n",
        "        self.out_dim = out_dim\n",
        "        self.out_dim_per_head = out_dim // n_heads\n",
        "        self.out = nn.Linear(out_dim, out_dim)\n",
        "        self.dropout = nn.Dropout(dropout)\n",
        "\n",
        "    def split_heads(self, t):\n",
        "         return t.reshape(t.shape[0], -1, self.n_heads, self.out_dim_per_head)\n",
        "\n",
        "    def forward(self, x, y=None, mask=None):\n",
        "        #in decoder, y comes from encoder. In encoder, y=x\n",
        "        y = x if y is None else y\n",
        "\n",
        "        qkv = self.linear(x) # BS * SEQ_LEN * (3*EMBED_SIZE_L)\n",
        "        q = qkv[:, :, :self.out_dim] # BS * SEQ_LEN * EMBED_SIZE_L\n",
        "        k = qkv[:, :, self.out_dim:self.out_dim*2] # BS * SEQ_LEN * EMBED_SIZE_L\n",
        "        v = qkv[:, :, self.out_dim*2:] # BS * SEQ_LEN * EMBED_SIZE_L\n",
        "\n",
        "        #break into n_heads\n",
        "        q, k, v = [self.split_heads(t) for t in (q,k,v)]  # BS * SEQ_LEN * HEAD * EMBED_SIZE_P_HEAD\n",
        "        q, k, v = [t.transpose(1,2) for t in (q,k,v)]  # BS * HEAD * SEQ_LEN * EMBED_SIZE_P_HEAD\n",
        "\n",
        "        #n_heads => attention => merge the heads => mix information\n",
        "        scores = attention(q, k, v, mask, self.dropout) # BS * HEAD * SEQ_LEN * EMBED_SIZE_P_HEAD\n",
        "        scores = scores.transpose(1,2).contiguous().view(scores.shape[0], -1, self.out_dim) # BS * SEQ_LEN * EMBED_SIZE_L\n",
        "        out = self.out(scores)  # BS * SEQ_LEN * EMBED_SIZE\n",
        "\n",
        "        return out\n",
        "\n",
        "class FeedForward(nn.Module):\n",
        "    def __init__(self, inp_dim, inner_dim, dropout=0.1):\n",
        "        super().__init__()\n",
        "        self.linear1 = nn.Linear(inp_dim, inner_dim)\n",
        "        self.linear2 = nn.Linear(inner_dim, inp_dim)\n",
        "        self.dropout = nn.Dropout(dropout)\n",
        "\n",
        "    def forward(self, x):\n",
        "        #inp => inner => relu => dropout => inner => inp\n",
        "        return self.linear2(self.dropout(F.relu(self.linear1(x))))\n",
        "\n",
        "class EncoderLayer(nn.Module):\n",
        "    def __init__(self, n_heads, inner_transformer_size, inner_ff_size, dropout=0.1):\n",
        "        super().__init__()\n",
        "        self.mha = MultiHeadAttention(n_heads, inner_transformer_size, dropout)\n",
        "        self.ff = FeedForward(inner_transformer_size, inner_ff_size, dropout)\n",
        "        self.norm1 = nn.LayerNorm(inner_transformer_size)\n",
        "        self.norm2 = nn.LayerNorm(inner_transformer_size)\n",
        "        self.dropout1 = nn.Dropout(dropout)\n",
        "        self.dropout2 = nn.Dropout(dropout)\n",
        "\n",
        "    def forward(self, x, mask=None):\n",
        "        x2 = self.norm1(x)\n",
        "        x = x + self.dropout1(self.mha(x2, mask=mask))\n",
        "        x2 = self.norm2(x)\n",
        "        x = x + self.dropout2(self.ff(x2))\n",
        "        return x\n",
        "\n",
        "# Positional Embedding\n",
        "class PositionalEmbedding(nn.Module):\n",
        "    def __init__(self, d_model, max_seq_len = 80):\n",
        "        super().__init__()\n",
        "        self.d_model = d_model\n",
        "        pe = torch.zeros(max_seq_len, d_model)\n",
        "        pe.requires_grad = False\n",
        "        for pos in range(max_seq_len):\n",
        "            for i in range(0, d_model, 2):\n",
        "                pe[pos, i] = math.sin(pos / (10000 ** ((2 * i)/d_model)))\n",
        "                pe[pos, i + 1] = math.cos(pos / (10000 ** ((2 * (i + 1))/d_model)))\n",
        "        pe = pe.unsqueeze(0)\n",
        "        self.register_buffer('pe', pe)\n",
        "\n",
        "    def forward(self, x):\n",
        "        return self.pe[:,:x.size(1)] #x.size(1) = seq_len"
      ],
      "metadata": {
        "id": "gzxVl7g-hw1v"
      },
      "execution_count": null,
      "outputs": []
    },
    {
      "cell_type": "code",
      "source": [
        "class Transformer(nn.Module):\n",
        "    def __init__(self, n_code, n_heads, embed_size, inner_ff_size, n_embeddings, seq_len, dropout=.1, saved_embed = None):\n",
        "        super().__init__()\n",
        "\n",
        "        #model input\n",
        "        self.embeddings = nn.Embedding(n_embeddings, embed_size)\n",
        "        self.pe = PositionalEmbedding(embed_size, seq_len)\n",
        "\n",
        "        #backbone\n",
        "        encoders = []\n",
        "        for i in range(n_code):\n",
        "            encoders += [EncoderLayer(n_heads, embed_size, inner_ff_size, dropout)]\n",
        "        self.encoders = nn.ModuleList(encoders)\n",
        "\n",
        "        #language model\n",
        "        self.norm = nn.LayerNorm(embed_size)\n",
        "        self.linear = nn.Linear(embed_size, n_embeddings, bias=False)\n",
        "\n",
        "    def forward(self, x):\n",
        "        x = self.embeddings(x)\n",
        "        x = x + self.pe(x)\n",
        "        for encoder in self.encoders:\n",
        "            x = encoder(x)\n",
        "        x = self.norm(x)\n",
        "        x = self.linear(x)\n",
        "        return x"
      ],
      "metadata": {
        "id": "qyCObtpBh7Zk"
      },
      "execution_count": null,
      "outputs": []
    },
    {
      "cell_type": "code",
      "source": [
        "# =============================================================================\n",
        "# Dataset\n",
        "# =============================================================================\n",
        "class SentencesDataset(Dataset):\n",
        "    #Init dataset\n",
        "    def __init__(self, sentences, vocab, seq_len):\n",
        "        dataset = self\n",
        "\n",
        "        dataset.sentences = sentences\n",
        "        dataset.vocab = vocab + ['<ignore>', '<oov>', '<mask>']\n",
        "        dataset.vocab = {e:i for i, e in enumerate(dataset.vocab)}\n",
        "        dataset.rvocab = {v:k for k,v in dataset.vocab.items()}\n",
        "        dataset.seq_len = seq_len\n",
        "\n",
        "        #special tags\n",
        "        dataset.IGNORE_IDX = dataset.vocab['<ignore>'] #replacement tag for tokens to ignore\n",
        "        dataset.OUT_OF_VOCAB_IDX = dataset.vocab['<oov>'] #replacement tag for unknown words\n",
        "        dataset.MASK_IDX = dataset.vocab['<mask>'] #replacement tag for the masked word prediction task\n",
        "\n",
        "    #fetch data\n",
        "    def __getitem__(self, index, p_random_mask=0.15):\n",
        "        dataset = self\n",
        "\n",
        "        #while we don't have enough word to fill the sentence for a batch\n",
        "        s = []\n",
        "        while len(s) < dataset.seq_len:\n",
        "            s.extend(dataset.get_sentence_idx(index % len(dataset)))\n",
        "            index += 1\n",
        "\n",
        "        #ensure that the sequence is of length seq_len\n",
        "        s = s[:dataset.seq_len]\n",
        "        [s.append(dataset.IGNORE_IDX) for i in range(dataset.seq_len - len(s))] #PAD ok\n",
        "\n",
        "        #apply random mask\n",
        "        rand_rand = random.random()\n",
        "        s = [(dataset.MASK_IDX, w) if rand_rand < p_random_mask else (w, dataset.IGNORE_IDX) for w in s]\n",
        "\n",
        "        return {'input': torch.Tensor([w[0] for w in s]).long(),\n",
        "                'target': torch.Tensor([w[0] for w in s]).long()}\n",
        "\n",
        "    #return length\n",
        "    def __len__(self):\n",
        "        return len(self.sentences)\n",
        "\n",
        "    #get words id\n",
        "    def get_sentence_idx(self, index):\n",
        "        dataset = self\n",
        "        s = dataset.sentences[index]\n",
        "        s = [dataset.vocab[w] if w in dataset.vocab else dataset.OUT_OF_VOCAB_IDX for w in s]\n",
        "        return s"
      ],
      "metadata": {
        "id": "lXwOPxwTiBW3"
      },
      "execution_count": null,
      "outputs": []
    },
    {
      "cell_type": "code",
      "source": [
        "# =============================================================================\n",
        "# Methods / Class\n",
        "# =============================================================================\n",
        "def get_batch(loader, loader_iter):\n",
        "    try:\n",
        "        batch = next(loader_iter)\n",
        "    except StopIteration:\n",
        "        loader_iter = iter(loader)\n",
        "        batch = next(loader_iter)\n",
        "    return batch, loader_iter"
      ],
      "metadata": {
        "id": "py05esgkiHY1"
      },
      "execution_count": null,
      "outputs": []
    },
    {
      "cell_type": "code",
      "source": [
        "# =============================================================================\n",
        "# #Init\n",
        "# =============================================================================\n",
        "print('initializing..')\n",
        "batch_size = 1024\n",
        "seq_len = 20\n",
        "embed_size = 128\n",
        "inner_ff_size = embed_size * 4\n",
        "n_heads = 8\n",
        "n_code = 8\n",
        "n_vocab = 40000\n",
        "dropout = 0.1\n",
        "# n_workers = 12\n",
        "\n",
        "#optimizer\n",
        "optim_kwargs = {'lr':1e-4, 'weight_decay':1e-4, 'betas':(.9,.999)}"
      ],
      "metadata": {
        "id": "awTIvUtEiJzF",
        "colab": {
          "base_uri": "https://localhost:8080/"
        },
        "outputId": "004e5467-f7a2-405f-a7e6-7abc6fcdbc2a"
      },
      "execution_count": null,
      "outputs": [
        {
          "output_type": "stream",
          "name": "stdout",
          "text": [
            "initializing..\n"
          ]
        }
      ]
    },
    {
      "cell_type": "code",
      "source": [
        "# =============================================================================\n",
        "# Input\n",
        "# =============================================================================\n",
        "#1) load text\n",
        "print('loading text...')\n",
        "pth = './BERT/training.txt'\n",
        "# pth = './BERT/small_training.txt'\n",
        "sentences = open(pth).read().lower().split('\\n')\n",
        "\n",
        "#2) tokenize sentences (can be done during training, you can also use spacy udpipe)\n",
        "print('tokenizing sentences...')\n",
        "special_chars = ',?;.:/*!+-()[]{}\"\\'&'\n",
        "sentences = [re.sub(f'[{re.escape(special_chars)}]', ' \\g<0> ', s).split(' ') for s in sentences]\n",
        "sentences = [[w for w in s if len(w)] for s in sentences]\n",
        "\n",
        "#3) create vocab if not already created\n",
        "print('creating/loading vocab...')\n",
        "pth = './BERT/vocab.txt'\n",
        "if not exists(pth):\n",
        "    words = [w for s in sentences for w in s]\n",
        "    vocab = Counter(words).most_common(n_vocab) #keep the N most frequent words\n",
        "    vocab = [w[0] for w in vocab]\n",
        "    open(pth, 'w+').write('\\n'.join(vocab))\n",
        "else:\n",
        "    vocab = open(pth).read().split('\\n')\n",
        "\n",
        "print(vocab[4], vocab[1], vocab[-1])\n",
        "\n",
        "#4) create dataset\n",
        "print('creating dataset...')\n",
        "dataset = SentencesDataset(sentences, vocab, seq_len)\n",
        "# kwargs = {'num_workers':n_workers, 'shuffle':True,  'drop_last':True, 'pin_memory':True, 'batch_size':batch_size}\n",
        "kwargs = {'shuffle':True,  'drop_last':True, 'pin_memory':True, 'batch_size':batch_size}\n",
        "data_loader = torch.utils.data.DataLoader(dataset, **kwargs)"
      ],
      "metadata": {
        "id": "OHyOHDPIiMfA",
        "colab": {
          "base_uri": "https://localhost:8080/"
        },
        "outputId": "9aadc8a4-6389-4684-b1c4-7c7f3eb5128a"
      },
      "execution_count": null,
      "outputs": [
        {
          "output_type": "stream",
          "name": "stdout",
          "text": [
            "loading text...\n",
            "tokenizing sentences...\n",
            "creating/loading vocab...\n",
            "and . glowed\n",
            "creating dataset...\n"
          ]
        }
      ]
    },
    {
      "cell_type": "code",
      "source": [
        "# =============================================================================\n",
        "# Model\n",
        "# =============================================================================\n",
        "#init model\n",
        "print('initializing model...')\n",
        "model = Transformer(n_code, n_heads, embed_size, inner_ff_size, len(dataset.vocab), seq_len, dropout)\n",
        "model = model.cuda()\n",
        "model.to(\"cuda\")"
      ],
      "metadata": {
        "id": "rMnVrzQ1iSlj",
        "colab": {
          "base_uri": "https://localhost:8080/"
        },
        "outputId": "b0068233-5aa1-4cd6-ae59-9dccfbddb8b0"
      },
      "execution_count": null,
      "outputs": [
        {
          "output_type": "stream",
          "name": "stdout",
          "text": [
            "initializing model...\n"
          ]
        },
        {
          "output_type": "execute_result",
          "data": {
            "text/plain": [
              "Transformer(\n",
              "  (embeddings): Embedding(23948, 128)\n",
              "  (pe): PositionalEmbedding()\n",
              "  (encoders): ModuleList(\n",
              "    (0): EncoderLayer(\n",
              "      (mha): MultiHeadAttention(\n",
              "        (linear): Linear(in_features=128, out_features=384, bias=True)\n",
              "        (out): Linear(in_features=128, out_features=128, bias=True)\n",
              "        (dropout): Dropout(p=0.1, inplace=False)\n",
              "      )\n",
              "      (ff): FeedForward(\n",
              "        (linear1): Linear(in_features=128, out_features=512, bias=True)\n",
              "        (linear2): Linear(in_features=512, out_features=128, bias=True)\n",
              "        (dropout): Dropout(p=0.1, inplace=False)\n",
              "      )\n",
              "      (norm1): LayerNorm((128,), eps=1e-05, elementwise_affine=True)\n",
              "      (norm2): LayerNorm((128,), eps=1e-05, elementwise_affine=True)\n",
              "      (dropout1): Dropout(p=0.1, inplace=False)\n",
              "      (dropout2): Dropout(p=0.1, inplace=False)\n",
              "    )\n",
              "    (1): EncoderLayer(\n",
              "      (mha): MultiHeadAttention(\n",
              "        (linear): Linear(in_features=128, out_features=384, bias=True)\n",
              "        (out): Linear(in_features=128, out_features=128, bias=True)\n",
              "        (dropout): Dropout(p=0.1, inplace=False)\n",
              "      )\n",
              "      (ff): FeedForward(\n",
              "        (linear1): Linear(in_features=128, out_features=512, bias=True)\n",
              "        (linear2): Linear(in_features=512, out_features=128, bias=True)\n",
              "        (dropout): Dropout(p=0.1, inplace=False)\n",
              "      )\n",
              "      (norm1): LayerNorm((128,), eps=1e-05, elementwise_affine=True)\n",
              "      (norm2): LayerNorm((128,), eps=1e-05, elementwise_affine=True)\n",
              "      (dropout1): Dropout(p=0.1, inplace=False)\n",
              "      (dropout2): Dropout(p=0.1, inplace=False)\n",
              "    )\n",
              "    (2): EncoderLayer(\n",
              "      (mha): MultiHeadAttention(\n",
              "        (linear): Linear(in_features=128, out_features=384, bias=True)\n",
              "        (out): Linear(in_features=128, out_features=128, bias=True)\n",
              "        (dropout): Dropout(p=0.1, inplace=False)\n",
              "      )\n",
              "      (ff): FeedForward(\n",
              "        (linear1): Linear(in_features=128, out_features=512, bias=True)\n",
              "        (linear2): Linear(in_features=512, out_features=128, bias=True)\n",
              "        (dropout): Dropout(p=0.1, inplace=False)\n",
              "      )\n",
              "      (norm1): LayerNorm((128,), eps=1e-05, elementwise_affine=True)\n",
              "      (norm2): LayerNorm((128,), eps=1e-05, elementwise_affine=True)\n",
              "      (dropout1): Dropout(p=0.1, inplace=False)\n",
              "      (dropout2): Dropout(p=0.1, inplace=False)\n",
              "    )\n",
              "    (3): EncoderLayer(\n",
              "      (mha): MultiHeadAttention(\n",
              "        (linear): Linear(in_features=128, out_features=384, bias=True)\n",
              "        (out): Linear(in_features=128, out_features=128, bias=True)\n",
              "        (dropout): Dropout(p=0.1, inplace=False)\n",
              "      )\n",
              "      (ff): FeedForward(\n",
              "        (linear1): Linear(in_features=128, out_features=512, bias=True)\n",
              "        (linear2): Linear(in_features=512, out_features=128, bias=True)\n",
              "        (dropout): Dropout(p=0.1, inplace=False)\n",
              "      )\n",
              "      (norm1): LayerNorm((128,), eps=1e-05, elementwise_affine=True)\n",
              "      (norm2): LayerNorm((128,), eps=1e-05, elementwise_affine=True)\n",
              "      (dropout1): Dropout(p=0.1, inplace=False)\n",
              "      (dropout2): Dropout(p=0.1, inplace=False)\n",
              "    )\n",
              "    (4): EncoderLayer(\n",
              "      (mha): MultiHeadAttention(\n",
              "        (linear): Linear(in_features=128, out_features=384, bias=True)\n",
              "        (out): Linear(in_features=128, out_features=128, bias=True)\n",
              "        (dropout): Dropout(p=0.1, inplace=False)\n",
              "      )\n",
              "      (ff): FeedForward(\n",
              "        (linear1): Linear(in_features=128, out_features=512, bias=True)\n",
              "        (linear2): Linear(in_features=512, out_features=128, bias=True)\n",
              "        (dropout): Dropout(p=0.1, inplace=False)\n",
              "      )\n",
              "      (norm1): LayerNorm((128,), eps=1e-05, elementwise_affine=True)\n",
              "      (norm2): LayerNorm((128,), eps=1e-05, elementwise_affine=True)\n",
              "      (dropout1): Dropout(p=0.1, inplace=False)\n",
              "      (dropout2): Dropout(p=0.1, inplace=False)\n",
              "    )\n",
              "    (5): EncoderLayer(\n",
              "      (mha): MultiHeadAttention(\n",
              "        (linear): Linear(in_features=128, out_features=384, bias=True)\n",
              "        (out): Linear(in_features=128, out_features=128, bias=True)\n",
              "        (dropout): Dropout(p=0.1, inplace=False)\n",
              "      )\n",
              "      (ff): FeedForward(\n",
              "        (linear1): Linear(in_features=128, out_features=512, bias=True)\n",
              "        (linear2): Linear(in_features=512, out_features=128, bias=True)\n",
              "        (dropout): Dropout(p=0.1, inplace=False)\n",
              "      )\n",
              "      (norm1): LayerNorm((128,), eps=1e-05, elementwise_affine=True)\n",
              "      (norm2): LayerNorm((128,), eps=1e-05, elementwise_affine=True)\n",
              "      (dropout1): Dropout(p=0.1, inplace=False)\n",
              "      (dropout2): Dropout(p=0.1, inplace=False)\n",
              "    )\n",
              "    (6): EncoderLayer(\n",
              "      (mha): MultiHeadAttention(\n",
              "        (linear): Linear(in_features=128, out_features=384, bias=True)\n",
              "        (out): Linear(in_features=128, out_features=128, bias=True)\n",
              "        (dropout): Dropout(p=0.1, inplace=False)\n",
              "      )\n",
              "      (ff): FeedForward(\n",
              "        (linear1): Linear(in_features=128, out_features=512, bias=True)\n",
              "        (linear2): Linear(in_features=512, out_features=128, bias=True)\n",
              "        (dropout): Dropout(p=0.1, inplace=False)\n",
              "      )\n",
              "      (norm1): LayerNorm((128,), eps=1e-05, elementwise_affine=True)\n",
              "      (norm2): LayerNorm((128,), eps=1e-05, elementwise_affine=True)\n",
              "      (dropout1): Dropout(p=0.1, inplace=False)\n",
              "      (dropout2): Dropout(p=0.1, inplace=False)\n",
              "    )\n",
              "    (7): EncoderLayer(\n",
              "      (mha): MultiHeadAttention(\n",
              "        (linear): Linear(in_features=128, out_features=384, bias=True)\n",
              "        (out): Linear(in_features=128, out_features=128, bias=True)\n",
              "        (dropout): Dropout(p=0.1, inplace=False)\n",
              "      )\n",
              "      (ff): FeedForward(\n",
              "        (linear1): Linear(in_features=128, out_features=512, bias=True)\n",
              "        (linear2): Linear(in_features=512, out_features=128, bias=True)\n",
              "        (dropout): Dropout(p=0.1, inplace=False)\n",
              "      )\n",
              "      (norm1): LayerNorm((128,), eps=1e-05, elementwise_affine=True)\n",
              "      (norm2): LayerNorm((128,), eps=1e-05, elementwise_affine=True)\n",
              "      (dropout1): Dropout(p=0.1, inplace=False)\n",
              "      (dropout2): Dropout(p=0.1, inplace=False)\n",
              "    )\n",
              "  )\n",
              "  (norm): LayerNorm((128,), eps=1e-05, elementwise_affine=True)\n",
              "  (linear): Linear(in_features=128, out_features=23948, bias=False)\n",
              ")"
            ]
          },
          "metadata": {},
          "execution_count": 11
        }
      ]
    },
    {
      "cell_type": "code",
      "source": [
        "# =============================================================================\n",
        "# Optimizer\n",
        "# =============================================================================\n",
        "print('initializing optimizer and loss...')\n",
        "optimizer = optim.Adam(model.parameters(), **optim_kwargs)\n",
        "loss_model = nn.CrossEntropyLoss(ignore_index=dataset.IGNORE_IDX)"
      ],
      "metadata": {
        "id": "3X4pzcgHiUJ0",
        "colab": {
          "base_uri": "https://localhost:8080/"
        },
        "outputId": "8e1d7b16-e14d-44db-e821-2fd2b6c48739"
      },
      "execution_count": null,
      "outputs": [
        {
          "output_type": "stream",
          "name": "stdout",
          "text": [
            "initializing optimizer and loss...\n"
          ]
        }
      ]
    },
    {
      "cell_type": "code",
      "source": [
        "# =============================================================================\n",
        "# Train\n",
        "# =============================================================================\n",
        "print('training...')\n",
        "print_each = 20\n",
        "model.train()\n",
        "batch_iter = iter(data_loader)\n",
        "n_iteration = 5_000\n",
        "for it in range(n_iteration):\n",
        "    #get batch\n",
        "    batch, batch_iter = get_batch(data_loader, batch_iter)\n",
        "\n",
        "    #infer\n",
        "    masked_input = batch['input']\n",
        "    masked_target = batch['target']\n",
        "\n",
        "    masked_input = masked_input.cuda(non_blocking=True)\n",
        "    masked_target = masked_target.cuda(non_blocking=True)\n",
        "    output = model(masked_input)\n",
        "    #compute the cross entropy loss\n",
        "    output_v = output.view(-1,output.shape[-1])\n",
        "    target_v = masked_target.view(-1,1).squeeze()\n",
        "    loss = loss_model(output_v, target_v)\n",
        "    #compute gradients\n",
        "    loss.backward()\n",
        "\n",
        "    #apply gradients\n",
        "    optimizer.step()\n",
        "\n",
        "    #print step\n",
        "    if it % print_each == 0:\n",
        "        print('it:', it,\n",
        "              ' | loss', np.round(loss.item(),2),\n",
        "              ' | Δw:', round(model.embeddings.weight.grad.abs().sum().item(),3))\n",
        "\n",
        "    #reset gradients\n",
        "    optimizer.zero_grad()\n",
        "\n",
        "# =============================================================================\n",
        "# Saving the embeddings for future use\n",
        "# =============================================================================\n",
        "print('saving embeddings for future use...')\n",
        "print(f'model.embeddings.weight.shape - {model.embeddings.weight.shape}, len(dataset.rvocab) : {len(dataset.rvocab)}')\n",
        "N = len(dataset.rvocab)\n",
        "np.savetxt('values_03242023b.tsv', np.round(model.embeddings.weight.detach().cpu().numpy()[0:N], 2), delimiter='\\t', fmt='%1.2f')\n",
        "s = [dataset.rvocab[i] for i in range(N)]\n",
        "open('names_032423b.tsv', 'w+').write('\\n'.join(s) )\n",
        "\n",
        "print('end')"
      ],
      "metadata": {
        "id": "I4qNQlOPiVl-",
        "colab": {
          "base_uri": "https://localhost:8080/"
        },
        "outputId": "33e500f8-cf65-4898-a825-f07d27f90164"
      },
      "execution_count": null,
      "outputs": [
        {
          "output_type": "stream",
          "name": "stdout",
          "text": [
            "training...\n",
            "it: 0  | loss 10.26  | Δw: 4.178\n",
            "it: 20  | loss 8.14  | Δw: 3.108\n",
            "it: 40  | loss 7.2  | Δw: 2.912\n",
            "it: 60  | loss 6.61  | Δw: 2.711\n",
            "it: 80  | loss 6.05  | Δw: 2.488\n",
            "it: 100  | loss 5.71  | Δw: 2.427\n",
            "it: 120  | loss 5.22  | Δw: 2.242\n",
            "it: 140  | loss 4.85  | Δw: 2.143\n",
            "it: 160  | loss 4.56  | Δw: 2.096\n",
            "it: 180  | loss 4.27  | Δw: 2.033\n",
            "it: 200  | loss 3.89  | Δw: 1.91\n",
            "it: 220  | loss 3.76  | Δw: 1.931\n",
            "it: 240  | loss 3.47  | Δw: 1.865\n",
            "it: 260  | loss 3.17  | Δw: 1.769\n",
            "it: 280  | loss 3.01  | Δw: 1.747\n",
            "it: 300  | loss 2.82  | Δw: 1.69\n",
            "it: 320  | loss 2.66  | Δw: 1.658\n",
            "it: 340  | loss 2.55  | Δw: 1.646\n",
            "it: 360  | loss 2.42  | Δw: 1.622\n",
            "it: 380  | loss 2.28  | Δw: 1.577\n",
            "it: 400  | loss 2.18  | Δw: 1.553\n",
            "it: 420  | loss 2.12  | Δw: 1.556\n",
            "it: 440  | loss 1.96  | Δw: 1.483\n",
            "it: 460  | loss 1.88  | Δw: 1.454\n",
            "it: 480  | loss 1.84  | Δw: 1.467\n",
            "it: 500  | loss 1.7  | Δw: 1.391\n",
            "it: 520  | loss 1.64  | Δw: 1.365\n",
            "it: 540  | loss 1.58  | Δw: 1.351\n",
            "it: 560  | loss 1.51  | Δw: 1.301\n",
            "it: 580  | loss 1.5  | Δw: 1.307\n",
            "it: 600  | loss 1.39  | Δw: 1.254\n",
            "it: 620  | loss 1.38  | Δw: 1.239\n",
            "it: 640  | loss 1.34  | Δw: 1.222\n",
            "it: 660  | loss 1.25  | Δw: 1.172\n",
            "it: 680  | loss 1.28  | Δw: 1.188\n",
            "it: 700  | loss 1.18  | Δw: 1.132\n",
            "it: 720  | loss 1.15  | Δw: 1.113\n",
            "it: 740  | loss 1.16  | Δw: 1.147\n",
            "it: 760  | loss 1.13  | Δw: 1.087\n",
            "it: 780  | loss 1.05  | Δw: 1.043\n",
            "it: 800  | loss 1.05  | Δw: 1.046\n",
            "it: 820  | loss 1.05  | Δw: 1.048\n",
            "it: 840  | loss 1.02  | Δw: 1.028\n",
            "it: 860  | loss 0.96  | Δw: 0.982\n",
            "it: 880  | loss 0.99  | Δw: 0.989\n",
            "it: 900  | loss 0.89  | Δw: 0.915\n",
            "it: 920  | loss 0.91  | Δw: 0.924\n",
            "it: 940  | loss 0.91  | Δw: 0.936\n",
            "it: 960  | loss 0.88  | Δw: 0.912\n",
            "it: 980  | loss 0.85  | Δw: 0.888\n",
            "it: 1000  | loss 0.84  | Δw: 0.881\n",
            "it: 1020  | loss 0.84  | Δw: 0.88\n",
            "it: 1040  | loss 0.79  | Δw: 0.807\n",
            "it: 1060  | loss 0.79  | Δw: 0.819\n",
            "it: 1080  | loss 0.78  | Δw: 0.815\n",
            "it: 1100  | loss 0.74  | Δw: 0.787\n",
            "it: 1120  | loss 0.71  | Δw: 0.762\n",
            "it: 1140  | loss 0.72  | Δw: 0.756\n",
            "it: 1160  | loss 0.71  | Δw: 0.734\n",
            "it: 1180  | loss 0.68  | Δw: 0.707\n",
            "it: 1200  | loss 0.7  | Δw: 0.714\n",
            "it: 1220  | loss 0.68  | Δw: 0.71\n",
            "it: 1240  | loss 0.71  | Δw: 0.717\n",
            "it: 1260  | loss 0.67  | Δw: 0.686\n",
            "it: 1280  | loss 0.65  | Δw: 0.675\n",
            "it: 1300  | loss 0.64  | Δw: 0.672\n",
            "it: 1320  | loss 0.64  | Δw: 0.662\n",
            "it: 1340  | loss 0.61  | Δw: 0.639\n",
            "it: 1360  | loss 0.62  | Δw: 0.648\n",
            "it: 1380  | loss 0.62  | Δw: 0.634\n",
            "it: 1400  | loss 0.61  | Δw: 0.619\n",
            "it: 1420  | loss 0.57  | Δw: 0.599\n",
            "it: 1440  | loss 0.59  | Δw: 0.601\n",
            "it: 1460  | loss 0.55  | Δw: 0.582\n",
            "it: 1480  | loss 0.55  | Δw: 0.563\n",
            "it: 1500  | loss 0.55  | Δw: 0.561\n",
            "it: 1520  | loss 0.53  | Δw: 0.557\n",
            "it: 1540  | loss 0.52  | Δw: 0.541\n",
            "it: 1560  | loss 0.52  | Δw: 0.537\n",
            "it: 1580  | loss 0.59  | Δw: 0.562\n",
            "it: 1600  | loss 0.54  | Δw: 0.543\n",
            "it: 1620  | loss 0.51  | Δw: 0.52\n",
            "it: 1640  | loss 0.51  | Δw: 0.517\n",
            "it: 1660  | loss 0.51  | Δw: 0.502\n",
            "it: 1680  | loss 0.5  | Δw: 0.498\n",
            "it: 1700  | loss 0.5  | Δw: 0.502\n",
            "it: 1720  | loss 0.5  | Δw: 0.506\n",
            "it: 1740  | loss 0.49  | Δw: 0.484\n",
            "it: 1760  | loss 0.46  | Δw: 0.469\n",
            "it: 1780  | loss 0.45  | Δw: 0.465\n",
            "it: 1800  | loss 0.46  | Δw: 0.46\n",
            "it: 1820  | loss 0.45  | Δw: 0.455\n",
            "it: 1840  | loss 0.47  | Δw: 0.451\n",
            "it: 1860  | loss 0.48  | Δw: 0.455\n",
            "it: 1880  | loss 0.45  | Δw: 0.452\n",
            "it: 1900  | loss 0.43  | Δw: 0.425\n",
            "it: 1920  | loss 0.46  | Δw: 0.429\n",
            "it: 1940  | loss 0.42  | Δw: 0.418\n",
            "it: 1960  | loss 0.44  | Δw: 0.422\n",
            "it: 1980  | loss 0.43  | Δw: 0.409\n",
            "it: 2000  | loss 0.45  | Δw: 0.429\n",
            "it: 2020  | loss 0.41  | Δw: 0.414\n",
            "it: 2040  | loss 0.43  | Δw: 0.409\n",
            "it: 2060  | loss 0.44  | Δw: 0.41\n",
            "it: 2080  | loss 0.39  | Δw: 0.392\n",
            "it: 2100  | loss 0.41  | Δw: 0.392\n",
            "it: 2120  | loss 0.41  | Δw: 0.377\n",
            "it: 2140  | loss 0.42  | Δw: 0.395\n",
            "it: 2160  | loss 0.41  | Δw: 0.383\n",
            "it: 2180  | loss 0.39  | Δw: 0.376\n",
            "it: 2200  | loss 0.38  | Δw: 0.37\n",
            "it: 2220  | loss 0.41  | Δw: 0.384\n",
            "it: 2240  | loss 0.4  | Δw: 0.372\n",
            "it: 2260  | loss 0.39  | Δw: 0.363\n",
            "it: 2280  | loss 0.39  | Δw: 0.365\n",
            "it: 2300  | loss 0.39  | Δw: 0.361\n",
            "it: 2320  | loss 0.41  | Δw: 0.361\n",
            "it: 2340  | loss 0.39  | Δw: 0.368\n",
            "it: 2360  | loss 0.39  | Δw: 0.359\n",
            "it: 2380  | loss 0.38  | Δw: 0.346\n",
            "it: 2400  | loss 0.37  | Δw: 0.349\n",
            "it: 2420  | loss 0.36  | Δw: 0.344\n",
            "it: 2440  | loss 0.34  | Δw: 0.326\n",
            "it: 2460  | loss 0.36  | Δw: 0.335\n",
            "it: 2480  | loss 0.36  | Δw: 0.33\n",
            "it: 2500  | loss 0.35  | Δw: 0.325\n",
            "it: 2520  | loss 0.34  | Δw: 0.322\n",
            "it: 2540  | loss 0.36  | Δw: 0.333\n",
            "it: 2560  | loss 0.34  | Δw: 0.324\n",
            "it: 2580  | loss 0.36  | Δw: 0.327\n",
            "it: 2600  | loss 0.34  | Δw: 0.325\n",
            "it: 2620  | loss 0.34  | Δw: 0.317\n",
            "it: 2640  | loss 0.34  | Δw: 0.314\n",
            "it: 2660  | loss 0.34  | Δw: 0.308\n",
            "it: 2680  | loss 0.32  | Δw: 0.299\n",
            "it: 2700  | loss 0.33  | Δw: 0.319\n",
            "it: 2720  | loss 0.32  | Δw: 0.313\n",
            "it: 2740  | loss 0.34  | Δw: 0.313\n",
            "it: 2760  | loss 0.32  | Δw: 0.294\n",
            "it: 2780  | loss 0.35  | Δw: 0.309\n",
            "it: 2800  | loss 0.31  | Δw: 0.292\n",
            "it: 2820  | loss 0.32  | Δw: 0.289\n",
            "it: 2840  | loss 0.3  | Δw: 0.292\n",
            "it: 2860  | loss 0.33  | Δw: 0.298\n",
            "it: 2880  | loss 0.32  | Δw: 0.293\n",
            "it: 2900  | loss 0.31  | Δw: 0.29\n",
            "it: 2920  | loss 0.31  | Δw: 0.286\n",
            "it: 2940  | loss 0.31  | Δw: 0.288\n",
            "it: 2960  | loss 0.32  | Δw: 0.287\n",
            "it: 2980  | loss 0.33  | Δw: 0.289\n",
            "it: 3000  | loss 0.31  | Δw: 0.284\n",
            "it: 3020  | loss 0.34  | Δw: 0.288\n",
            "it: 3040  | loss 0.31  | Δw: 0.284\n",
            "it: 3060  | loss 0.32  | Δw: 0.283\n",
            "it: 3080  | loss 0.34  | Δw: 0.287\n",
            "it: 3100  | loss 0.32  | Δw: 0.284\n",
            "it: 3120  | loss 0.3  | Δw: 0.276\n",
            "it: 3140  | loss 0.31  | Δw: 0.276\n",
            "it: 3160  | loss 0.3  | Δw: 0.281\n",
            "it: 3180  | loss 0.31  | Δw: 0.28\n",
            "it: 3200  | loss 0.27  | Δw: 0.26\n",
            "it: 3220  | loss 0.3  | Δw: 0.263\n",
            "it: 3240  | loss 0.3  | Δw: 0.274\n",
            "it: 3260  | loss 0.31  | Δw: 0.273\n",
            "it: 3280  | loss 0.32  | Δw: 0.283\n",
            "it: 3300  | loss 0.28  | Δw: 0.261\n",
            "it: 3320  | loss 0.28  | Δw: 0.267\n",
            "it: 3340  | loss 0.29  | Δw: 0.264\n",
            "it: 3360  | loss 0.3  | Δw: 0.261\n",
            "it: 3380  | loss 0.28  | Δw: 0.255\n",
            "it: 3400  | loss 0.29  | Δw: 0.27\n",
            "it: 3420  | loss 0.28  | Δw: 0.259\n",
            "it: 3440  | loss 0.3  | Δw: 0.268\n",
            "it: 3460  | loss 0.28  | Δw: 0.253\n",
            "it: 3480  | loss 0.29  | Δw: 0.259\n",
            "it: 3500  | loss 0.29  | Δw: 0.254\n",
            "it: 3520  | loss 0.3  | Δw: 0.259\n",
            "it: 3540  | loss 0.29  | Δw: 0.26\n",
            "it: 3560  | loss 0.28  | Δw: 0.26\n",
            "it: 3580  | loss 0.28  | Δw: 0.245\n",
            "it: 3600  | loss 0.29  | Δw: 0.263\n",
            "it: 3620  | loss 0.28  | Δw: 0.253\n",
            "it: 3640  | loss 0.26  | Δw: 0.252\n",
            "it: 3660  | loss 0.29  | Δw: 0.255\n",
            "it: 3680  | loss 0.3  | Δw: 0.258\n",
            "it: 3700  | loss 0.27  | Δw: 0.247\n",
            "it: 3720  | loss 0.28  | Δw: 0.257\n",
            "it: 3740  | loss 0.28  | Δw: 0.244\n",
            "it: 3760  | loss 0.27  | Δw: 0.247\n",
            "it: 3780  | loss 0.27  | Δw: 0.242\n",
            "it: 3800  | loss 0.28  | Δw: 0.253\n",
            "it: 3820  | loss 0.27  | Δw: 0.246\n",
            "it: 3840  | loss 0.28  | Δw: 0.244\n",
            "it: 3860  | loss 0.28  | Δw: 0.251\n",
            "it: 3880  | loss 0.27  | Δw: 0.244\n",
            "it: 3900  | loss 0.29  | Δw: 0.241\n",
            "it: 3920  | loss 0.27  | Δw: 0.236\n",
            "it: 3940  | loss 0.27  | Δw: 0.238\n",
            "it: 3960  | loss 0.28  | Δw: 0.246\n",
            "it: 3980  | loss 0.27  | Δw: 0.24\n",
            "it: 4000  | loss 0.24  | Δw: 0.233\n",
            "it: 4020  | loss 0.24  | Δw: 0.233\n",
            "it: 4040  | loss 0.27  | Δw: 0.242\n",
            "it: 4060  | loss 0.25  | Δw: 0.234\n",
            "it: 4080  | loss 0.26  | Δw: 0.234\n",
            "it: 4100  | loss 0.28  | Δw: 0.235\n",
            "it: 4120  | loss 0.26  | Δw: 0.241\n",
            "it: 4140  | loss 0.26  | Δw: 0.24\n",
            "it: 4160  | loss 0.26  | Δw: 0.234\n",
            "it: 4180  | loss 0.24  | Δw: 0.223\n",
            "it: 4200  | loss 0.25  | Δw: 0.232\n",
            "it: 4220  | loss 0.26  | Δw: 0.226\n",
            "it: 4240  | loss 0.24  | Δw: 0.223\n",
            "it: 4260  | loss 0.27  | Δw: 0.235\n",
            "it: 4280  | loss 0.26  | Δw: 0.233\n",
            "it: 4300  | loss 0.26  | Δw: 0.228\n",
            "it: 4320  | loss 0.25  | Δw: 0.231\n",
            "it: 4340  | loss 0.25  | Δw: 0.226\n",
            "it: 4360  | loss 0.25  | Δw: 0.228\n",
            "it: 4380  | loss 0.27  | Δw: 0.233\n",
            "it: 4400  | loss 0.25  | Δw: 0.226\n",
            "it: 4420  | loss 0.25  | Δw: 0.22\n",
            "it: 4440  | loss 0.25  | Δw: 0.219\n",
            "it: 4460  | loss 0.25  | Δw: 0.223\n",
            "it: 4480  | loss 0.23  | Δw: 0.227\n",
            "it: 4500  | loss 0.24  | Δw: 0.219\n",
            "it: 4520  | loss 0.25  | Δw: 0.231\n",
            "it: 4540  | loss 0.24  | Δw: 0.224\n",
            "it: 4560  | loss 0.25  | Δw: 0.218\n",
            "it: 4580  | loss 0.25  | Δw: 0.219\n",
            "it: 4600  | loss 0.26  | Δw: 0.229\n",
            "it: 4620  | loss 0.24  | Δw: 0.218\n",
            "it: 4640  | loss 0.27  | Δw: 0.224\n",
            "it: 4660  | loss 0.24  | Δw: 0.218\n",
            "it: 4680  | loss 0.24  | Δw: 0.216\n",
            "it: 4700  | loss 0.27  | Δw: 0.224\n",
            "it: 4720  | loss 0.24  | Δw: 0.215\n",
            "it: 4740  | loss 0.23  | Δw: 0.217\n",
            "it: 4760  | loss 0.25  | Δw: 0.22\n",
            "it: 4780  | loss 0.24  | Δw: 0.22\n",
            "it: 4800  | loss 0.23  | Δw: 0.213\n",
            "it: 4820  | loss 0.25  | Δw: 0.214\n",
            "it: 4840  | loss 0.24  | Δw: 0.215\n",
            "it: 4860  | loss 0.24  | Δw: 0.22\n",
            "it: 4880  | loss 0.22  | Δw: 0.206\n",
            "it: 4900  | loss 0.23  | Δw: 0.218\n",
            "it: 4920  | loss 0.24  | Δw: 0.212\n",
            "it: 4940  | loss 0.24  | Δw: 0.212\n",
            "it: 4960  | loss 0.24  | Δw: 0.208\n",
            "it: 4980  | loss 0.23  | Δw: 0.209\n",
            "saving embeddings for future use...\n",
            "model.embeddings.weight.shape - torch.Size([23948, 128]), len(dataset.rvocab) : 23948\n",
            "end\n"
          ]
        }
      ]
    },
    {
      "cell_type": "markdown",
      "source": [
        "### **Quick inferencing with above trained model weights**"
      ],
      "metadata": {
        "id": "Y0J2aVzBiIcz"
      }
    },
    {
      "cell_type": "code",
      "source": [
        "#Loading the Test Input\n",
        "pth = './BERT/small_training.txt'\n",
        "test_sentences = open(pth).read().lower().split('\\n')\n",
        "\n",
        "print('tokenizing test_sentences...')\n",
        "special_chars = ',?;.:/*!+-()[]{}\"\\'&'\n",
        "test_sentences = [re.sub(f'[{re.escape(special_chars)}]', ' \\g<0> ', s).split(' ') for s in test_sentences]\n",
        "test_sentences = [[w for w in s if len(w)] for s in test_sentences]\n",
        "print(f'len(test_sentences) : {len(test_sentences)}')\n",
        "\n",
        "#creating test_dataset, test_data_loader\n",
        "print('creating test_dataset and test_data_loader...')\n",
        "batch_size = 5\n",
        "test_dataset = SentencesDataset(test_sentences, vocab, seq_len)\n",
        "kwargs = {'shuffle':True,  'drop_last':True, 'pin_memory':True, 'batch_size':batch_size}\n",
        "test_data_loader = torch.utils.data.DataLoader(test_dataset, **kwargs)\n",
        "\n",
        "# Creating test_batch and test_input and test_target with 5 sentences\n",
        "test_batch_iter = iter(test_data_loader)\n",
        "test_batch, test_batch_iter = get_batch(test_data_loader, test_batch_iter)\n",
        "print(f\"len(test_batch['input']) : {len(test_batch['input'])} len(test_batch['target']) : {len(test_batch['target'])}\")\n",
        "test_input = test_batch['input']\n",
        "test_target = test_batch['target']\n",
        "test_input = test_input.cuda(non_blocking=True)\n",
        "test_target = test_target.cuda(non_blocking=True)\n",
        "print(test_input.shape, test_target.shape)\n",
        "\n",
        "# Prediction\n",
        "model.eval()\n",
        "with torch.no_grad():\n",
        "      test_out = model(test_input)\n",
        "      test_out_f = test_out.argmax(dim=-1)\n",
        "print(test_out.shape, test_out_f.shape)\n",
        "print(test_input)\n",
        "print(test_out_f)\n",
        "\n",
        "# Using test_dataset.rvocab for decoding the output\n",
        "test_input_2 = test_input.squeeze(0).tolist()\n",
        "test_output  = test_out_f.squeeze(0).tolist()\n",
        "s_in = []\n",
        "s_out = []\n",
        "for i in range(batch_size):\n",
        "   s_in = []\n",
        "   print(f'*** Sentence {i} ***')\n",
        "   for elem in test_input_2[i]:\n",
        "       s_in.append(test_dataset.rvocab[elem])\n",
        "   print(f'Input : {s_in}')\n",
        "   s_out = []\n",
        "   for elem in test_output[i]:\n",
        "       s_out.append(test_dataset.rvocab[elem])\n",
        "   print(f'Output: {s_out}')"
      ],
      "metadata": {
        "colab": {
          "base_uri": "https://localhost:8080/"
        },
        "id": "pR9xwxjviHiW",
        "outputId": "0204cb6b-9fbf-4728-c3d6-ddc98d34495c"
      },
      "execution_count": null,
      "outputs": [
        {
          "output_type": "stream",
          "name": "stdout",
          "text": [
            "tokenizing test_sentences...\n",
            "len(test_sentences) : 5\n",
            "creating test_dataset and test_data_loader...\n",
            "len(test_batch['input']) : 5 len(test_batch['target']) : 5\n",
            "torch.Size([5, 20]) torch.Size([5, 20])\n",
            "torch.Size([5, 20, 23948]) torch.Size([5, 20])\n",
            "tensor([[    5,    68,    89,     6,  3234,    11, 23946,  4731, 13220,   190,\n",
            "          4542, 23946,   189,     1,     5,    93,    12,    19,  1898, 23946],\n",
            "        [   13,    29, 23946, 23946,     0,    45,    36,   887,    75,     6,\n",
            "          3263,     9, 23946,  4731, 13220,    13, 23946,     4,    45,    36],\n",
            "        [ 3650,     0,    45,    36,  2034,   111, 23946,     1,     5,    68,\n",
            "            89,     6,  3234,    11, 23946,  4731, 13220,   190,  4542, 23946],\n",
            "        [    5,    93,    12,    19,  1898, 23946,    45,   217, 13220,     1,\n",
            "            37, 10934,   114,     5,   107,    19,  4542, 23946,    14,    13],\n",
            "        [   37, 10934,   114,     5,   107,    19,  4542, 23946,    14,    13,\n",
            "            29, 23946, 23946,     0,    45,    36,   887,    75,     6,  3263]],\n",
            "       device='cuda:0')\n",
            "tensor([[   5,   68,   89,    6, 3234,   11, 1279, 4731,  312,  190, 4542, 1279,\n",
            "          189,    1,    5,   93,   12,   19, 1898, 1279],\n",
            "        [  13,   29, 1279, 1279,    0,   45,   36,  887,   75,    6, 3263,    9,\n",
            "         1279, 4731,   54,   13, 1279,    4,   45,   36],\n",
            "        [3650,    0,   45,   36, 2034,  111, 1279,    1,    5,   68,   89,    6,\n",
            "         3234,   11, 1279, 4731,  149,  190, 4542, 1279],\n",
            "        [   5,   93,   12,   19, 1898, 1279,   45,  217,  312,    1,   37,  150,\n",
            "          114,    5,  107,   19, 4542, 1279,   14,   13],\n",
            "        [  37,  150,  114,    5,  107,   19, 4542, 1279,   14,   13,   29, 1279,\n",
            "         1279,    0,   45,   36,  887,   75,    6, 3263]], device='cuda:0')\n",
            "*** Sentence 0 ***\n",
            "Input : ['i', 'would', 'like', 'to', 'print', 'my', '<oov>', 'model', 'summary', '(', 'text', '<oov>', ')', '.', 'i', 'know', 'that', 'for', 'image', '<oov>']\n",
            "Output: ['i', 'would', 'like', 'to', 'print', 'my', 'endure', 'model', 'thing', '(', 'text', 'endure', ')', '.', 'i', 'know', 'that', 'for', 'image', 'endure']\n",
            "*** Sentence 1 ***\n",
            "Input : ['in', 'this', '<oov>', '<oov>', ',', 'we', 'will', 'learn', 'how', 'to', 'create', 'a', '<oov>', 'model', 'summary', 'in', '<oov>', 'and', 'we', 'will']\n",
            "Output: ['in', 'this', 'endure', 'endure', ',', 'we', 'will', 'learn', 'how', 'to', 'create', 'a', 'endure', 'model', 'king', 'in', 'endure', 'and', 'we', 'will']\n",
            "*** Sentence 2 ***\n",
            "Input : ['moreover', ',', 'we', 'will', 'cover', 'these', '<oov>', '.', 'i', 'would', 'like', 'to', 'print', 'my', '<oov>', 'model', 'summary', '(', 'text', '<oov>']\n",
            "Output: ['moreover', ',', 'we', 'will', 'cover', 'these', 'endure', '.', 'i', 'would', 'like', 'to', 'print', 'my', 'endure', 'model', 'hand', '(', 'text', 'endure']\n",
            "*** Sentence 3 ***\n",
            "Input : ['i', 'know', 'that', 'for', 'image', '<oov>', 'we', 'use', 'summary', '.', 'what', 'dimensions', 'can', 'i', 'give', 'for', 'text', '<oov>', '?', 'in']\n",
            "Output: ['i', 'know', 'that', 'for', 'image', 'endure', 'we', 'use', 'thing', '.', 'what', 'master', 'can', 'i', 'give', 'for', 'text', 'endure', '?', 'in']\n",
            "*** Sentence 4 ***\n",
            "Input : ['what', 'dimensions', 'can', 'i', 'give', 'for', 'text', '<oov>', '?', 'in', 'this', '<oov>', '<oov>', ',', 'we', 'will', 'learn', 'how', 'to', 'create']\n",
            "Output: ['what', 'master', 'can', 'i', 'give', 'for', 'text', 'endure', '?', 'in', 'this', 'endure', 'endure', ',', 'we', 'will', 'learn', 'how', 'to', 'create']\n"
          ]
        }
      ]
    },
    {
      "cell_type": "markdown",
      "source": [
        "### **Inferencing at a later point (w/o training model). We will use the embeddings saved from last training**"
      ],
      "metadata": {
        "id": "MBqqsve7iY6D"
      }
    },
    {
      "cell_type": "code",
      "source": [
        "#Loading the Test Input & create vocab if not already created\n",
        "\n",
        "print('loading testing text...')\n",
        "pth = './BERT/small_training.txt'\n",
        "test_sentences = open(pth).read().lower().split('\\n')\n",
        "\n",
        "print('tokenizing test_sentences...')\n",
        "special_chars = ',?;.:/*!+-()[]{}\"\\'&'\n",
        "test_sentences = [re.sub(f'[{re.escape(special_chars)}]', ' \\g<0> ', s).split(' ') for s in test_sentences]\n",
        "test_sentences = [[w for w in s if len(w)] for s in test_sentences]\n",
        "print(f'len(test_sentences) : {len(test_sentences)}')\n",
        "\n",
        "print('creating/loading vocab...')\n",
        "pth = './BERT/vocab.txt'\n",
        "if not exists(pth):\n",
        "    words = [w for s in sentences for w in s]\n",
        "    vocab = Counter(words).most_common(n_vocab) #keep the N most frequent words\n",
        "    vocab = [w[0] for w in vocab]\n",
        "    open(pth, 'w+').write('\\n'.join(vocab))\n",
        "else:\n",
        "    vocab = open(pth).read().split('\\n')"
      ],
      "metadata": {
        "colab": {
          "base_uri": "https://localhost:8080/"
        },
        "id": "5lSvdUhGMqU1",
        "outputId": "5477d56f-c6fd-4b94-af15-c85372afc7e8"
      },
      "execution_count": null,
      "outputs": [
        {
          "output_type": "stream",
          "name": "stdout",
          "text": [
            "loading testing text...\n",
            "tokenizing test_sentences...\n",
            "len(test_sentences) : 6\n",
            "creating/loading vocab...\n"
          ]
        }
      ]
    },
    {
      "cell_type": "code",
      "source": [
        "#creating test_dataset, test_data_loader\n",
        "\n",
        "print('creating test_dataset and test_data_loader...')\n",
        "batch_size = 2\n",
        "test_dataset = SentencesDataset(test_sentences, vocab, seq_len)\n",
        "kwargs = {'shuffle':True,  'drop_last':True, 'pin_memory':True, 'batch_size':batch_size}\n",
        "test_data_loader = torch.utils.data.DataLoader(test_dataset, **kwargs)"
      ],
      "metadata": {
        "colab": {
          "base_uri": "https://localhost:8080/"
        },
        "id": "si8MFkZp9yqJ",
        "outputId": "0d2d59e3-07a0-42bb-8e08-24c2861b4537"
      },
      "execution_count": null,
      "outputs": [
        {
          "output_type": "stream",
          "name": "stdout",
          "text": [
            "initializing..\n",
            "creating test_dataset and test_data_loader...\n"
          ]
        }
      ]
    },
    {
      "cell_type": "code",
      "source": [
        "# initializingmodel (Use this step only if are not training the model)\n",
        "\n",
        "print('initializing..')\n",
        "batch_size = 2\n",
        "seq_len = 20\n",
        "embed_size = 128\n",
        "inner_ff_size = embed_size * 4\n",
        "n_heads = 8\n",
        "n_code = 8\n",
        "n_vocab = 40000\n",
        "dropout = 0.1\n",
        "\n",
        "model = Transformer(n_code, n_heads, embed_size, inner_ff_size, len(test_dataset.vocab), seq_len, dropout)\n",
        "model = model.cuda()\n",
        "\n",
        "# Getting the saved embedding from LAST training\n",
        "saved_embedding = np.genfromtxt(fname='./BERT/values_03242023a.tsv', delimiter='\\t')\n",
        "print(f'saved_embedding.shape : {saved_embedding.shape} type(saved_embedding) : {type(saved_embedding)}')\n",
        "# Loading the model embedding with the pretrained weight we just got above\n",
        "model.embeddings.weight.data.copy_(torch.from_numpy(saved_embedding))\n",
        "print(f'model.embeddings.weight.shape - {model.embeddings.weight.shape}')"
      ],
      "metadata": {
        "colab": {
          "base_uri": "https://localhost:8080/"
        },
        "id": "96m8G9j9frcp",
        "outputId": "9ab8aa81-e2c5-499a-e6d5-7387d81ee428"
      },
      "execution_count": null,
      "outputs": [
        {
          "output_type": "stream",
          "name": "stdout",
          "text": [
            "saved_embedding.shape : (23948, 128) type(saved_embedding) : <class 'numpy.ndarray'>\n",
            "model.embeddings.weight.shape - torch.Size([23948, 128])\n"
          ]
        }
      ]
    },
    {
      "cell_type": "code",
      "source": [
        "# Creating test_batch and test_input and test_target with just 1 sentence\n",
        "test_batch_iter = iter(test_data_loader)\n",
        "test_batch, test_batch_iter = get_batch(test_data_loader, test_batch_iter)\n",
        "print(f\"len(test_batch['input']) : {len(test_batch['input'])} len(test_batch['target']) : {len(test_batch['target'])}\")\n",
        "test_input = test_batch['input'][0].unsqueeze(0)\n",
        "test_target = test_batch['target'][0].unsqueeze(0)\n",
        "test_input = test_input.cuda(non_blocking=True)\n",
        "test_target = test_target.cuda(non_blocking=True)\n",
        "print(test_input.shape, test_target.shape, test_input)"
      ],
      "metadata": {
        "colab": {
          "base_uri": "https://localhost:8080/"
        },
        "id": "do_q4ayyNMjR",
        "outputId": "dc3c7c68-248c-4646-a5ae-82b8755afdf8"
      },
      "execution_count": null,
      "outputs": [
        {
          "output_type": "stream",
          "name": "stdout",
          "text": [
            "len(test_batch['input']) : 2 len(test_batch['target']) : 2\n",
            "torch.Size([1, 20]) torch.Size([1, 20]) tensor([[   37, 10934,   114,     5,   107,    19,  4542, 23946,    14,    13,\n",
            "            29, 23946, 23946,     0,    45,    36,   887,    75,     6,  3263]],\n",
            "       device='cuda:0')\n"
          ]
        }
      ]
    },
    {
      "cell_type": "code",
      "source": [
        "# Prediction\n",
        "model.eval()\n",
        "with torch.no_grad():\n",
        "      test_out = model(test_input)\n",
        "      test_out_f = test_out.argmax(dim=-1)\n",
        "print(test_out.shape, test_out_f.shape)\n",
        "print(test_input)\n",
        "print(test_out_f)"
      ],
      "metadata": {
        "id": "QGN-A7NUOGqS",
        "colab": {
          "base_uri": "https://localhost:8080/"
        },
        "outputId": "bd3ea23c-54a9-4018-9165-d22c1682dc97"
      },
      "execution_count": null,
      "outputs": [
        {
          "output_type": "stream",
          "name": "stdout",
          "text": [
            "torch.Size([1, 20, 23948]) torch.Size([1, 20])\n",
            "tensor([[   37, 10934,   114,     5,   107,    19,  4542, 23946,    14,    13,\n",
            "            29, 23946, 23946,     0,    45,    36,   887,    75,     6,  3263]],\n",
            "       device='cuda:0')\n",
            "tensor([[ 9884,  1912, 17347,  1885, 17609, 16511, 22379, 18563, 13211, 21702,\n",
            "         19497, 22380,  8627, 17609,  7169, 18382,  7146, 15389, 17347,  6336]],\n",
            "       device='cuda:0')\n"
          ]
        }
      ]
    },
    {
      "cell_type": "code",
      "source": [
        "# Using test_dataset.rvocab for decoding the output\n",
        "test_input_2 = test_input.squeeze(0).tolist()\n",
        "test_output  = test_out_f.squeeze(0).tolist()\n",
        "s_in = []\n",
        "for elem in test_input_2:\n",
        "   s_in.append(test_dataset.rvocab[elem])\n",
        "print(s_in)\n",
        "s_out = []\n",
        "for elem in test_output:\n",
        "   s_out.append(test_dataset.rvocab[elem])\n",
        "print(s_out)"
      ],
      "metadata": {
        "colab": {
          "base_uri": "https://localhost:8080/"
        },
        "id": "9hAXKe6UON9E",
        "outputId": "7fd09b7a-147d-4180-81f0-98c04dbedbfd"
      },
      "execution_count": null,
      "outputs": [
        {
          "output_type": "stream",
          "name": "stdout",
          "text": [
            "['what', 'dimensions', 'can', 'i', 'give', 'for', 'text', '<oov>', '?', 'in', 'this', '<oov>', '<oov>', ',', 'we', 'will', 'learn', 'how', 'to', 'create']\n",
            "['accessary', 'aim', 'joyed', 'victory', 'capacities', 'cannibally', 'spangle', 'minotaurs', 'corporate', 'seymour', 'wheer', 'allots', 'pursuing', 'capacities', 'searching', 'fightest', 'bolts', '123', 'joyed', 'castles']\n"
          ]
        }
      ]
    },
    {
      "cell_type": "code",
      "source": [],
      "metadata": {
        "id": "U8o9a2E1OYSS"
      },
      "execution_count": null,
      "outputs": []
    }
  ]
}